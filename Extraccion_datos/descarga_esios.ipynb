{
 "cells": [
  {
   "cell_type": "markdown",
   "metadata": {},
   "source": [
    "# Descarga datos esios\n",
    "\n",
    "## Documentacion:\n",
    "\n",
    "La nueva web pública de e·sios pone a disposición de todos los usuarios una API para la descarga de información, cuya documentación se encuentra disponible en https://api.esios.ree.es.\n",
    "\n",
    "Para poder utilizar esta API deberán solicitar un token personal enviando un correo a **consultasios@ree.es**.En mi caso:\n",
    "\n",
    "token: 9d6bcd627698602fbcd18721cca88b90d0f6e6025963f86be84fa18c87801a10\n",
    "\n",
    "En nuestro caso, la solicitud de datos será para un periodo de tiempo solicitando los datos por código indicador:\n",
    "\n",
    "https://api.esios.ree.es/indicator/getting_a_specific_indicator_filtering_values_by_a_date_range\n"
   ]
  },
  {
   "cell_type": "markdown",
   "metadata": {},
   "source": [
    "## 1. Importamos librerías necesarias"
   ]
  },
  {
   "cell_type": "code",
   "execution_count": 96,
   "metadata": {
    "collapsed": true
   },
   "outputs": [],
   "source": [
    "import pandas as pd\n",
    "import numpy as np\n",
    "import requests\n",
    "import json"
   ]
  },
  {
   "cell_type": "code",
   "execution_count": 97,
   "metadata": {
    "collapsed": true
   },
   "outputs": [
    {
     "data": {
      "text/plain": [
       "\u001b[0;31mSignature:\u001b[0m \u001b[0mrequests\u001b[0m\u001b[0;34m.\u001b[0m\u001b[0mget\u001b[0m\u001b[0;34m(\u001b[0m\u001b[0murl\u001b[0m\u001b[0;34m,\u001b[0m \u001b[0mparams\u001b[0m\u001b[0;34m=\u001b[0m\u001b[0;32mNone\u001b[0m\u001b[0;34m,\u001b[0m \u001b[0;34m**\u001b[0m\u001b[0mkwargs\u001b[0m\u001b[0;34m)\u001b[0m\u001b[0;34m\u001b[0m\u001b[0m\n",
       "\u001b[0;31mDocstring:\u001b[0m\n",
       "Sends a GET request.\n",
       "\n",
       ":param url: URL for the new :class:`Request` object.\n",
       ":param params: (optional) Dictionary or bytes to be sent in the query string for the :class:`Request`.\n",
       ":param \\*\\*kwargs: Optional arguments that ``request`` takes.\n",
       ":return: :class:`Response <Response>` object\n",
       ":rtype: requests.Response\n",
       "\u001b[0;31mFile:\u001b[0m      /anaconda3/lib/python3.6/site-packages/requests/api.py\n",
       "\u001b[0;31mType:\u001b[0m      function\n"
      ]
     },
     "metadata": {},
     "output_type": "display_data"
    }
   ],
   "source": [
    "requests.get?"
   ]
  },
  {
   "cell_type": "markdown",
   "metadata": {},
   "source": [
    "## 2. Definición features\n",
    "\n",
    "Creamos diccionario"
   ]
  },
  {
   "cell_type": "code",
   "execution_count": 98,
   "metadata": {
    "collapsed": true
   },
   "outputs": [],
   "source": [
    "d={'P48_EOLICA':10010,\n",
    "    'P48_DEMANDA':10027,\n",
    "    #'POT_DISP_HULLA_ANT':475,  #Los tendremos que sumar para obtener MW disponibles Carbón\n",
    "    #'POT_DISP_HULLA_SB':476,\n",
    "    #'PRECIO_MD_ESP':600,\n",
    "    #'PRECIO_MD_FR':600,\n",
    "    #'PRECIO_I1':612\n",
    "  }"
   ]
  },
  {
   "cell_type": "code",
   "execution_count": 99,
   "metadata": {},
   "outputs": [
    {
     "data": {
      "text/plain": [
       "dict_items([('P48_EOLICA', 10010), ('P48_DEMANDA', 10027)])"
      ]
     },
     "execution_count": 99,
     "metadata": {},
     "output_type": "execute_result"
    }
   ],
   "source": [
    "d.items()"
   ]
  },
  {
   "cell_type": "markdown",
   "metadata": {},
   "source": [
    "En el caso del id_precios habrá que adentrarse un nivel adicional y consultar GEOIDS:\n",
    "\n",
    "* ESPAÑA = 3\n",
    "* FRANCIA = 2"
   ]
  },
  {
   "cell_type": "markdown",
   "metadata": {},
   "source": [
    "## 3. Funciones solicitud datos\n",
    "\n",
    "Función para obtener los datos del indicador *ind* solicitado entre dos fechas dadas.\n",
    "\n",
    "En nuestro dataset se nos presentan 2 peculiaridades a introducir en la función:\n",
    "\n",
    "1) Existe un único indicador para los precios de cada mercado, diferenciándose el pais por el parámetro GEOIDS --> **solicita_datos_precios**\n",
    "\n",
    "2) Los datos de potencia disponible hay que agregarlos porque viene desglosada en comunidades --> **solicita datos disponibles**"
   ]
  },
  {
   "cell_type": "code",
   "execution_count": 104,
   "metadata": {},
   "outputs": [],
   "source": [
    "def solicita_datos_general(fecha_ini,fecha_fin,ind):\n",
    "\n",
    "    headers_={'Accept': 'application/json; application/vnd.esios-api-v1+json',\n",
    "              'Content-Type': 'application/json',\n",
    "              'Host': 'api.esios.ree.es',\n",
    "              'Authorization': 'Token token=\"9d6bcd627698602fbcd18721cca88b90d0f6e6025963f86be84fa18c87801a10\"',\n",
    "              'Cookie':''\n",
    "             }\n",
    "\n",
    "    query_parametros_={'start_date': fecha_ini,\n",
    "                'end_date':fecha_fin}\n",
    "\n",
    "    url_='https://api.esios.ree.es/indicators/' + str(ind)\n",
    "    \n",
    "    #Hacemos peticion:\n",
    "    r = requests.get(url_,headers=headers_,params=query_parametros_)\n",
    "    \n",
    "    #Comprobamos que trae datos\n",
    "    assert r.status_code==200\n",
    "    \n",
    "    #r.content --> durante el diseño para explorar datos\n",
    "    \n",
    "    data=json.loads(r.content)\n",
    "    \n",
    "    #type(data)\n",
    "    #data['indicator']['values'] --> durante el diseño para explorar datos\n",
    "    \n",
    "    df_data=pd.DataFrame(data['indicator']['values'])\n",
    "    \n",
    "    #df_data.dtypes --> Tenemos que convertir las fechas a formato fecha\n",
    "    #y crear nuestro df\n",
    "    \n",
    "    df=pd.DataFrame()        \n",
    "    df['datetime']=pd.to_datetime([f[:10] + ' ' + f[11:13] + ':00:00' for f in df_data['datetime']]) \n",
    "    df['value']=df_data['value']\n",
    "    \n",
    "    #df['period']=pd.Series([int(f[11:13])+1 for f in df_data['datetime']]) La crearemos al final\n",
    "    \n",
    "    df=df.set_index('datetime')\n",
    "\n",
    "    return df"
   ]
  },
  {
   "cell_type": "markdown",
   "metadata": {},
   "source": [
    "## 4. Agregación dataset"
   ]
  },
  {
   "cell_type": "code",
   "execution_count": 105,
   "metadata": {},
   "outputs": [],
   "source": [
    "datos_esios=pd.DataFrame()  #será nuestro set de datos\n",
    "\n",
    "fecha_ini_='2015-10-01 00:00:00'\n",
    "fecha_fin_='2018-09-30 23:59:59'"
   ]
  },
  {
   "cell_type": "markdown",
   "metadata": {},
   "source": [
    "Definimos parámetros de entrada:\n",
    "\n",
    "La idea inicial es que mi dataset empiece en 01/10/2015 hasta 30/09/2018.\n",
    "\n",
    "He escogido 3 años móviles, teniendo en cuenta que el año hidráulico comienza el octubre (y la hidraulicidad es importante en el Mercado eléctrico) e intentar evitar el efecto de cambios regulatorios en la mayor medida posible"
   ]
  },
  {
   "cell_type": "code",
   "execution_count": 107,
   "metadata": {},
   "outputs": [],
   "source": [
    "for k,v in d.items():\n",
    "    historico=solicita_datos(fecha_ini_,fecha_fin_,v)\n",
    "    historico.columns=[str(k)]\n",
    "    datos_esios=pd.concat([datos_esios,historico],axis=1)"
   ]
  },
  {
   "cell_type": "code",
   "execution_count": 108,
   "metadata": {},
   "outputs": [
    {
     "data": {
      "text/html": [
       "<div>\n",
       "<style scoped>\n",
       "    .dataframe tbody tr th:only-of-type {\n",
       "        vertical-align: middle;\n",
       "    }\n",
       "\n",
       "    .dataframe tbody tr th {\n",
       "        vertical-align: top;\n",
       "    }\n",
       "\n",
       "    .dataframe thead th {\n",
       "        text-align: right;\n",
       "    }\n",
       "</style>\n",
       "<table border=\"1\" class=\"dataframe\">\n",
       "  <thead>\n",
       "    <tr style=\"text-align: right;\">\n",
       "      <th></th>\n",
       "      <th>P48_EOLICA</th>\n",
       "      <th>P48_DEMANDA</th>\n",
       "    </tr>\n",
       "    <tr>\n",
       "      <th>datetime</th>\n",
       "      <th></th>\n",
       "      <th></th>\n",
       "    </tr>\n",
       "  </thead>\n",
       "  <tbody>\n",
       "    <tr>\n",
       "      <th>2015-10-01 00:00:00</th>\n",
       "      <td>2196.1</td>\n",
       "      <td>24517.1</td>\n",
       "    </tr>\n",
       "    <tr>\n",
       "      <th>2015-10-01 01:00:00</th>\n",
       "      <td>2064.4</td>\n",
       "      <td>23168.6</td>\n",
       "    </tr>\n",
       "    <tr>\n",
       "      <th>2015-10-01 02:00:00</th>\n",
       "      <td>1866.5</td>\n",
       "      <td>22437.2</td>\n",
       "    </tr>\n",
       "    <tr>\n",
       "      <th>2015-10-01 03:00:00</th>\n",
       "      <td>1660.9</td>\n",
       "      <td>22281.3</td>\n",
       "    </tr>\n",
       "    <tr>\n",
       "      <th>2015-10-01 04:00:00</th>\n",
       "      <td>1373.9</td>\n",
       "      <td>21909.7</td>\n",
       "    </tr>\n",
       "  </tbody>\n",
       "</table>\n",
       "</div>"
      ],
      "text/plain": [
       "                     P48_EOLICA  P48_DEMANDA\n",
       "datetime                                    \n",
       "2015-10-01 00:00:00      2196.1      24517.1\n",
       "2015-10-01 01:00:00      2064.4      23168.6\n",
       "2015-10-01 02:00:00      1866.5      22437.2\n",
       "2015-10-01 03:00:00      1660.9      22281.3\n",
       "2015-10-01 04:00:00      1373.9      21909.7"
      ]
     },
     "execution_count": 108,
     "metadata": {},
     "output_type": "execute_result"
    }
   ],
   "source": [
    "datos_esios.head()"
   ]
  },
  {
   "cell_type": "markdown",
   "metadata": {},
   "source": [
    "## 5. Check datos"
   ]
  },
  {
   "cell_type": "code",
   "execution_count": 109,
   "metadata": {
    "collapsed": true
   },
   "outputs": [
    {
     "data": {
      "text/html": [
       "<div>\n",
       "<style scoped>\n",
       "    .dataframe tbody tr th:only-of-type {\n",
       "        vertical-align: middle;\n",
       "    }\n",
       "\n",
       "    .dataframe tbody tr th {\n",
       "        vertical-align: top;\n",
       "    }\n",
       "\n",
       "    .dataframe thead th {\n",
       "        text-align: right;\n",
       "    }\n",
       "</style>\n",
       "<table border=\"1\" class=\"dataframe\">\n",
       "  <thead>\n",
       "    <tr style=\"text-align: right;\">\n",
       "      <th></th>\n",
       "      <th>P48_EOLICA</th>\n",
       "      <th>P48_DEMANDA</th>\n",
       "    </tr>\n",
       "  </thead>\n",
       "  <tbody>\n",
       "    <tr>\n",
       "      <th>count</th>\n",
       "      <td>26304.000000</td>\n",
       "      <td>26304.000000</td>\n",
       "    </tr>\n",
       "    <tr>\n",
       "      <th>mean</th>\n",
       "      <td>5479.286014</td>\n",
       "      <td>28672.990169</td>\n",
       "    </tr>\n",
       "    <tr>\n",
       "      <th>std</th>\n",
       "      <td>3185.927399</td>\n",
       "      <td>4616.496856</td>\n",
       "    </tr>\n",
       "    <tr>\n",
       "      <th>min</th>\n",
       "      <td>240.800000</td>\n",
       "      <td>17728.400000</td>\n",
       "    </tr>\n",
       "    <tr>\n",
       "      <th>25%</th>\n",
       "      <td>3018.400000</td>\n",
       "      <td>24734.150000</td>\n",
       "    </tr>\n",
       "    <tr>\n",
       "      <th>50%</th>\n",
       "      <td>4822.950000</td>\n",
       "      <td>28920.600000</td>\n",
       "    </tr>\n",
       "    <tr>\n",
       "      <th>75%</th>\n",
       "      <td>7289.250000</td>\n",
       "      <td>32267.650000</td>\n",
       "    </tr>\n",
       "    <tr>\n",
       "      <th>max</th>\n",
       "      <td>16952.600000</td>\n",
       "      <td>41297.900000</td>\n",
       "    </tr>\n",
       "  </tbody>\n",
       "</table>\n",
       "</div>"
      ],
      "text/plain": [
       "         P48_EOLICA   P48_DEMANDA\n",
       "count  26304.000000  26304.000000\n",
       "mean    5479.286014  28672.990169\n",
       "std     3185.927399   4616.496856\n",
       "min      240.800000  17728.400000\n",
       "25%     3018.400000  24734.150000\n",
       "50%     4822.950000  28920.600000\n",
       "75%     7289.250000  32267.650000\n",
       "max    16952.600000  41297.900000"
      ]
     },
     "execution_count": 109,
     "metadata": {},
     "output_type": "execute_result"
    }
   ],
   "source": [
    "datos_esios.describe()"
   ]
  },
  {
   "cell_type": "code",
   "execution_count": 112,
   "metadata": {},
   "outputs": [
    {
     "data": {
      "text/plain": [
       "(26304, 2)"
      ]
     },
     "execution_count": 112,
     "metadata": {},
     "output_type": "execute_result"
    }
   ],
   "source": [
    "datos_esios.shape  #para testear que no tengo NA"
   ]
  },
  {
   "cell_type": "markdown",
   "metadata": {},
   "source": [
    "## 6. Salvar datos"
   ]
  },
  {
   "cell_type": "code",
   "execution_count": null,
   "metadata": {
    "collapsed": true
   },
   "outputs": [],
   "source": []
  }
 ],
 "metadata": {
  "kernelspec": {
   "display_name": "Python 3",
   "language": "python",
   "name": "python3"
  },
  "language_info": {
   "codemirror_mode": {
    "name": "ipython",
    "version": 3
   },
   "file_extension": ".py",
   "mimetype": "text/x-python",
   "name": "python",
   "nbconvert_exporter": "python",
   "pygments_lexer": "ipython3",
   "version": "3.6.5"
  }
 },
 "nbformat": 4,
 "nbformat_minor": 2
}
