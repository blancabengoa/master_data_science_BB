{
 "cells": [
  {
   "cell_type": "markdown",
   "metadata": {},
   "source": [
    "# Descarga datos esios\n",
    "\n",
    "## Documentacion:\n",
    "\n",
    "La nueva web pública de e·sios pone a disposición de todos los usuarios una API para la descarga de información, cuya documentación se encuentra disponible en https://api.esios.ree.es.\n",
    "\n",
    "Para poder utilizar esta API deberán solicitar un token personal enviando un correo a **consultasios@ree.es**.En mi caso:\n",
    "\n",
    "token: 9d6bcd627698602fbcd18721cca88b90d0f6e6025963f86be84fa18c87801a10\n",
    "\n",
    "En nuestro caso, la solicitud de datos será para un periodo de tiempo solicitando los datos por código indicador:\n",
    "\n",
    "https://api.esios.ree.es/indicator/getting_a_specific_indicator_filtering_values_by_a_date_range\n"
   ]
  },
  {
   "cell_type": "markdown",
   "metadata": {},
   "source": [
    "## 1. Importamos librerías necesarias"
   ]
  },
  {
   "cell_type": "code",
   "execution_count": 1,
   "metadata": {
    "collapsed": true
   },
   "outputs": [],
   "source": [
    "import pandas as pd\n",
    "import numpy as np\n",
    "import requests\n",
    "import json"
   ]
  },
  {
   "cell_type": "code",
   "execution_count": 2,
   "metadata": {},
   "outputs": [],
   "source": [
    "pd.options.display.max_columns= None"
   ]
  },
  {
   "cell_type": "code",
   "execution_count": 3,
   "metadata": {
    "collapsed": true
   },
   "outputs": [
    {
     "data": {
      "text/plain": [
       "\u001b[0;31mSignature:\u001b[0m \u001b[0mrequests\u001b[0m\u001b[0;34m.\u001b[0m\u001b[0mget\u001b[0m\u001b[0;34m(\u001b[0m\u001b[0murl\u001b[0m\u001b[0;34m,\u001b[0m \u001b[0mparams\u001b[0m\u001b[0;34m=\u001b[0m\u001b[0;32mNone\u001b[0m\u001b[0;34m,\u001b[0m \u001b[0;34m**\u001b[0m\u001b[0mkwargs\u001b[0m\u001b[0;34m)\u001b[0m\u001b[0;34m\u001b[0m\u001b[0m\n",
       "\u001b[0;31mDocstring:\u001b[0m\n",
       "Sends a GET request.\n",
       "\n",
       ":param url: URL for the new :class:`Request` object.\n",
       ":param params: (optional) Dictionary or bytes to be sent in the query string for the :class:`Request`.\n",
       ":param \\*\\*kwargs: Optional arguments that ``request`` takes.\n",
       ":return: :class:`Response <Response>` object\n",
       ":rtype: requests.Response\n",
       "\u001b[0;31mFile:\u001b[0m      /anaconda3/lib/python3.6/site-packages/requests/api.py\n",
       "\u001b[0;31mType:\u001b[0m      function\n"
      ]
     },
     "metadata": {},
     "output_type": "display_data"
    }
   ],
   "source": [
    "requests.get?"
   ]
  },
  {
   "cell_type": "markdown",
   "metadata": {},
   "source": [
    "## 2. Definición features\n",
    "\n",
    "Creamos diccionario"
   ]
  },
  {
   "cell_type": "code",
   "execution_count": 5,
   "metadata": {
    "collapsed": true
   },
   "outputs": [],
   "source": [
    "d={10010: 'P48_EOLICA',\n",
    "   10027: 'P48_DEMANDA',\n",
    "   10008: 'P48_CARBON',\n",
    "   475: 'POT_DISP_HULLA_ANT',  #Los tendremos que sumar para obtener MW disponibles Carbón\n",
    "   476: 'POT_DISP_HULA_SB',\n",
    "   600: [['PRECIO_MD_ESP',3],['PRECIO_MD_FR',2]],\n",
    "   612: [['PRECIO_I1',3]],\n",
    "   613: [['PRECIO_I2',3]]  #Si PI1=PMD, miramos PMI2\n",
    "  }"
   ]
  },
  {
   "cell_type": "code",
   "execution_count": 6,
   "metadata": {},
   "outputs": [
    {
     "data": {
      "text/plain": [
       "dict_items([(10010, 'P48_EOLICA'), (10027, 'P48_DEMANDA'), (10008, 'P48_CARBON'), (475, 'POT_DISP_HULLA_ANT'), (476, 'POT_DISP_HULA_SB'), (600, [['PRECIO_MD_ESP', 3], ['PRECIO_MD_FR', 2]]), (612, [['PRECIO_I1', 3]]), (613, [['PRECIO_I2', 3]])])"
      ]
     },
     "execution_count": 6,
     "metadata": {},
     "output_type": "execute_result"
    }
   ],
   "source": [
    "d.items()"
   ]
  },
  {
   "cell_type": "markdown",
   "metadata": {},
   "source": [
    "En el caso del id_precios habrá que adentrarse un nivel adicional y consultar GEOIDS:\n",
    "\n",
    "* ESPAÑA = 3\n",
    "* FRANCIA = 2"
   ]
  },
  {
   "cell_type": "markdown",
   "metadata": {},
   "source": [
    "## 3. Funciones solicitud datos\n",
    "\n",
    "Función para obtener los datos del indicador *ind* solicitado entre dos fechas dadas.\n",
    "\n",
    "En nuestro dataset se nos presentan 2 peculiaridades a introducir en la función:\n",
    "\n",
    "1) Existe un único indicador para los precios de cada mercado, diferenciándose el pais por el parámetro GEOIDS --> **solicita_datos_precios**\n",
    "\n",
    "2) Los datos de potencia disponible hay que agregarlos porque viene desglosada en comunidades --> **solicita datos disponibles**"
   ]
  },
  {
   "cell_type": "code",
   "execution_count": 10,
   "metadata": {},
   "outputs": [],
   "source": [
    "def solicita_datos_general(fecha_ini,fecha_fin,ind):\n",
    "\n",
    "    headers_={'Accept': 'application/json; application/vnd.esios-api-v1+json',\n",
    "              'Content-Type': 'application/json',\n",
    "              'Host': 'api.esios.ree.es',\n",
    "              'Authorization': 'Token token=\"9d6bcd627698602fbcd18721cca88b90d0f6e6025963f86be84fa18c87801a10\"',\n",
    "              'Cookie':''\n",
    "             }\n",
    "\n",
    "    query_parametros_={'start_date': fecha_ini,\n",
    "                'end_date':fecha_fin}\n",
    "\n",
    "    url_='https://api.esios.ree.es/indicators/' + str(ind)\n",
    "    \n",
    "    #Hacemos peticion:\n",
    "    r = requests.get(url_,headers=headers_,params=query_parametros_)\n",
    "    \n",
    "    #Comprobamos que trae datos\n",
    "    assert r.status_code==200\n",
    "    \n",
    "    #r.content --> durante el diseño para explorar datos\n",
    "    \n",
    "    data=json.loads(r.content)\n",
    "    \n",
    "    #type(data)\n",
    "    #data['indicator']['values'] --> durante el diseño para explorar datos\n",
    "    \n",
    "    df_data=pd.DataFrame(data['indicator']['values'])\n",
    "    \n",
    "    #df_data.dtypes --> Tenemos que convertir las fechas a formato fecha\n",
    "    #y crear nuestro df\n",
    "    \n",
    "    df=pd.DataFrame()        \n",
    "    df['datetime']=pd.to_datetime([f[:10] + ' ' + f[11:13] + ':00:00' for f in df_data['datetime']],yearfirst=True) \n",
    "    df['value']=df_data['value']\n",
    "    if (ind==475) | (ind==476):\n",
    "        df=df.groupby('datetime')['value'].sum()\n",
    "        df=pd.DataFrame(df)\n",
    "    else:\n",
    "        df=df.set_index('datetime')\n",
    "\n",
    "    return df"
   ]
  },
  {
   "cell_type": "code",
   "execution_count": 11,
   "metadata": {},
   "outputs": [],
   "source": [
    "def solicita_datos_precios(fecha_ini,fecha_fin,ind,lista):\n",
    "   \n",
    "    headers_={'Accept': 'application/json; application/vnd.esios-api-v1+json',\n",
    "              'Content-Type': 'application/json',\n",
    "              'Host': 'api.esios.ree.es',\n",
    "              'Authorization': 'Token token=\"9d6bcd627698602fbcd18721cca88b90d0f6e6025963f86be84fa18c87801a10\"',\n",
    "              'Cookie':''\n",
    "             }\n",
    " \n",
    "    query_parametros_={'start_date': fecha_ini,\n",
    "                       'end_date': fecha_fin}\n",
    " \n",
    "    url_='https://api.esios.ree.es/indicators/'+ str(ind)\n",
    " \n",
    "    #Hacemos peticion:\n",
    "    r = requests.get(url_,headers=headers_,params=query_parametros_)\n",
    " \n",
    "    #Comprobamos que trae datos\n",
    "    assert r.status_code==200\n",
    " \n",
    "    data=json.loads(r.content)\n",
    " \n",
    "    data['indicator']['values']\n",
    " \n",
    "    df_data=pd.DataFrame(data['indicator']['values'])\n",
    " \n",
    "    df=pd.DataFrame()\n",
    "    for i in enumerate(lista):\n",
    "        df_subset=pd.DataFrame()\n",
    "        df_data_subset=df_data[df_data['geo_id']==i[1][1]]\n",
    "        df_data_subset.reset_index(drop=True,inplace=True)\n",
    "        df_subset['datetime']=pd.to_datetime([f[:10] + ' ' + f[11:13] + ':00:00' for f in df_data_subset['datetime']],yearfirst=True)\n",
    "        df_subset[str(i[1][0])]=df_data_subset['value']\n",
    "        df_subset.set_index('datetime',inplace=True)\n",
    "        df=pd.concat([df,df_subset],axis=1)\n",
    "    return df      \n",
    " "
   ]
  },
  {
   "cell_type": "code",
   "execution_count": 12,
   "metadata": {},
   "outputs": [
    {
     "data": {
      "text/plain": [
       "\u001b[0;31mSignature:\u001b[0m \u001b[0mpd\u001b[0m\u001b[0;34m.\u001b[0m\u001b[0mto_datetime\u001b[0m\u001b[0;34m(\u001b[0m\u001b[0marg\u001b[0m\u001b[0;34m,\u001b[0m \u001b[0merrors\u001b[0m\u001b[0;34m=\u001b[0m\u001b[0;34m'raise'\u001b[0m\u001b[0;34m,\u001b[0m \u001b[0mdayfirst\u001b[0m\u001b[0;34m=\u001b[0m\u001b[0;32mFalse\u001b[0m\u001b[0;34m,\u001b[0m \u001b[0myearfirst\u001b[0m\u001b[0;34m=\u001b[0m\u001b[0;32mFalse\u001b[0m\u001b[0;34m,\u001b[0m \u001b[0mutc\u001b[0m\u001b[0;34m=\u001b[0m\u001b[0;32mNone\u001b[0m\u001b[0;34m,\u001b[0m \u001b[0mbox\u001b[0m\u001b[0;34m=\u001b[0m\u001b[0;32mTrue\u001b[0m\u001b[0;34m,\u001b[0m \u001b[0mformat\u001b[0m\u001b[0;34m=\u001b[0m\u001b[0;32mNone\u001b[0m\u001b[0;34m,\u001b[0m \u001b[0mexact\u001b[0m\u001b[0;34m=\u001b[0m\u001b[0;32mTrue\u001b[0m\u001b[0;34m,\u001b[0m \u001b[0munit\u001b[0m\u001b[0;34m=\u001b[0m\u001b[0;32mNone\u001b[0m\u001b[0;34m,\u001b[0m \u001b[0minfer_datetime_format\u001b[0m\u001b[0;34m=\u001b[0m\u001b[0;32mFalse\u001b[0m\u001b[0;34m,\u001b[0m \u001b[0morigin\u001b[0m\u001b[0;34m=\u001b[0m\u001b[0;34m'unix'\u001b[0m\u001b[0;34m,\u001b[0m \u001b[0mcache\u001b[0m\u001b[0;34m=\u001b[0m\u001b[0;32mFalse\u001b[0m\u001b[0;34m)\u001b[0m\u001b[0;34m\u001b[0m\u001b[0m\n",
       "\u001b[0;31mDocstring:\u001b[0m\n",
       "Convert argument to datetime.\n",
       "\n",
       "Parameters\n",
       "----------\n",
       "arg : integer, float, string, datetime, list, tuple, 1-d array, Series\n",
       "\n",
       "    .. versionadded:: 0.18.1\n",
       "\n",
       "       or DataFrame/dict-like\n",
       "\n",
       "errors : {'ignore', 'raise', 'coerce'}, default 'raise'\n",
       "\n",
       "    - If 'raise', then invalid parsing will raise an exception\n",
       "    - If 'coerce', then invalid parsing will be set as NaT\n",
       "    - If 'ignore', then invalid parsing will return the input\n",
       "dayfirst : boolean, default False\n",
       "    Specify a date parse order if `arg` is str or its list-likes.\n",
       "    If True, parses dates with the day first, eg 10/11/12 is parsed as\n",
       "    2012-11-10.\n",
       "    Warning: dayfirst=True is not strict, but will prefer to parse\n",
       "    with day first (this is a known bug, based on dateutil behavior).\n",
       "yearfirst : boolean, default False\n",
       "    Specify a date parse order if `arg` is str or its list-likes.\n",
       "\n",
       "    - If True parses dates with the year first, eg 10/11/12 is parsed as\n",
       "      2010-11-12.\n",
       "    - If both dayfirst and yearfirst are True, yearfirst is preceded (same\n",
       "      as dateutil).\n",
       "\n",
       "    Warning: yearfirst=True is not strict, but will prefer to parse\n",
       "    with year first (this is a known bug, based on dateutil beahavior).\n",
       "\n",
       "    .. versionadded:: 0.16.1\n",
       "\n",
       "utc : boolean, default None\n",
       "    Return UTC DatetimeIndex if True (converting any tz-aware\n",
       "    datetime.datetime objects as well).\n",
       "box : boolean, default True\n",
       "\n",
       "    - If True returns a DatetimeIndex\n",
       "    - If False returns ndarray of values.\n",
       "format : string, default None\n",
       "    strftime to parse time, eg \"%d/%m/%Y\", note that \"%f\" will parse\n",
       "    all the way up to nanoseconds.\n",
       "exact : boolean, True by default\n",
       "\n",
       "    - If True, require an exact format match.\n",
       "    - If False, allow the format to match anywhere in the target string.\n",
       "\n",
       "unit : string, default 'ns'\n",
       "    unit of the arg (D,s,ms,us,ns) denote the unit, which is an\n",
       "    integer or float number. This will be based off the origin.\n",
       "    Example, with unit='ms' and origin='unix' (the default), this\n",
       "    would calculate the number of milliseconds to the unix epoch start.\n",
       "infer_datetime_format : boolean, default False\n",
       "    If True and no `format` is given, attempt to infer the format of the\n",
       "    datetime strings, and if it can be inferred, switch to a faster\n",
       "    method of parsing them. In some cases this can increase the parsing\n",
       "    speed by ~5-10x.\n",
       "origin : scalar, default is 'unix'\n",
       "    Define the reference date. The numeric values would be parsed as number\n",
       "    of units (defined by `unit`) since this reference date.\n",
       "\n",
       "    - If 'unix' (or POSIX) time; origin is set to 1970-01-01.\n",
       "    - If 'julian', unit must be 'D', and origin is set to beginning of\n",
       "      Julian Calendar. Julian day number 0 is assigned to the day starting\n",
       "      at noon on January 1, 4713 BC.\n",
       "    - If Timestamp convertible, origin is set to Timestamp identified by\n",
       "      origin.\n",
       "\n",
       "    .. versionadded:: 0.20.0\n",
       "cache : boolean, default False\n",
       "    If True, use a cache of unique, converted dates to apply the datetime\n",
       "    conversion. May produce sigificant speed-up when parsing duplicate date\n",
       "    strings, especially ones with timezone offsets.\n",
       "\n",
       "    .. versionadded:: 0.23.0\n",
       "\n",
       "Returns\n",
       "-------\n",
       "ret : datetime if parsing succeeded.\n",
       "    Return type depends on input:\n",
       "\n",
       "    - list-like: DatetimeIndex\n",
       "    - Series: Series of datetime64 dtype\n",
       "    - scalar: Timestamp\n",
       "\n",
       "    In case when it is not possible to return designated types (e.g. when\n",
       "    any element of input is before Timestamp.min or after Timestamp.max)\n",
       "    return will have datetime.datetime type (or corresponding\n",
       "    array/Series).\n",
       "\n",
       "Examples\n",
       "--------\n",
       "Assembling a datetime from multiple columns of a DataFrame. The keys can be\n",
       "common abbreviations like ['year', 'month', 'day', 'minute', 'second',\n",
       "'ms', 'us', 'ns']) or plurals of the same\n",
       "\n",
       ">>> df = pd.DataFrame({'year': [2015, 2016],\n",
       "                       'month': [2, 3],\n",
       "                       'day': [4, 5]})\n",
       ">>> pd.to_datetime(df)\n",
       "0   2015-02-04\n",
       "1   2016-03-05\n",
       "dtype: datetime64[ns]\n",
       "\n",
       "If a date does not meet the `timestamp limitations\n",
       "<http://pandas.pydata.org/pandas-docs/stable/timeseries.html\n",
       "#timeseries-timestamp-limits>`_, passing errors='ignore'\n",
       "will return the original input instead of raising any exception.\n",
       "\n",
       "Passing errors='coerce' will force an out-of-bounds date to NaT,\n",
       "in addition to forcing non-dates (or non-parseable dates) to NaT.\n",
       "\n",
       ">>> pd.to_datetime('13000101', format='%Y%m%d', errors='ignore')\n",
       "datetime.datetime(1300, 1, 1, 0, 0)\n",
       ">>> pd.to_datetime('13000101', format='%Y%m%d', errors='coerce')\n",
       "NaT\n",
       "\n",
       "Passing infer_datetime_format=True can often-times speedup a parsing\n",
       "if its not an ISO8601 format exactly, but in a regular format.\n",
       "\n",
       ">>> s = pd.Series(['3/11/2000', '3/12/2000', '3/13/2000']*1000)\n",
       "\n",
       ">>> s.head()\n",
       "0    3/11/2000\n",
       "1    3/12/2000\n",
       "2    3/13/2000\n",
       "3    3/11/2000\n",
       "4    3/12/2000\n",
       "dtype: object\n",
       "\n",
       ">>> %timeit pd.to_datetime(s,infer_datetime_format=True)\n",
       "100 loops, best of 3: 10.4 ms per loop\n",
       "\n",
       ">>> %timeit pd.to_datetime(s,infer_datetime_format=False)\n",
       "1 loop, best of 3: 471 ms per loop\n",
       "\n",
       "Using a unix epoch time\n",
       "\n",
       ">>> pd.to_datetime(1490195805, unit='s')\n",
       "Timestamp('2017-03-22 15:16:45')\n",
       ">>> pd.to_datetime(1490195805433502912, unit='ns')\n",
       "Timestamp('2017-03-22 15:16:45.433502912')\n",
       "\n",
       ".. warning:: For float arg, precision rounding might happen. To prevent\n",
       "    unexpected behavior use a fixed-width exact type.\n",
       "\n",
       "Using a non-unix epoch origin\n",
       "\n",
       ">>> pd.to_datetime([1, 2, 3], unit='D',\n",
       "                   origin=pd.Timestamp('1960-01-01'))\n",
       "0    1960-01-02\n",
       "1    1960-01-03\n",
       "2    1960-01-04\n",
       "\n",
       "See also\n",
       "--------\n",
       "pandas.DataFrame.astype : Cast argument to a specified dtype.\n",
       "pandas.to_timedelta : Convert argument to timedelta.\n",
       "\u001b[0;31mFile:\u001b[0m      /anaconda3/lib/python3.6/site-packages/pandas/core/tools/datetimes.py\n",
       "\u001b[0;31mType:\u001b[0m      function\n"
      ]
     },
     "metadata": {},
     "output_type": "display_data"
    }
   ],
   "source": [
    "pd.to_datetime?"
   ]
  },
  {
   "cell_type": "markdown",
   "metadata": {},
   "source": [
    "## 4. Agregación dataset"
   ]
  },
  {
   "cell_type": "code",
   "execution_count": 13,
   "metadata": {},
   "outputs": [],
   "source": [
    "datos_esios=pd.DataFrame()  #será nuestro set de datos\n",
    "\n",
    "fecha_ini_='2015-10-01 00:00:00'\n",
    "fecha_fin_='2018-09-30 23:59:59'"
   ]
  },
  {
   "cell_type": "markdown",
   "metadata": {},
   "source": [
    "Definimos parámetros de entrada:\n",
    "\n",
    "La idea inicial es que mi dataset empiece en 01/10/2015 hasta 30/09/2018.\n",
    "\n",
    "He escogido 3 años móviles, teniendo en cuenta que el año hidráulico comienza el octubre (y la hidraulicidad es importante en el Mercado eléctrico) e intentar evitar el efecto de cambios regulatorios en la mayor medida posible"
   ]
  },
  {
   "cell_type": "code",
   "execution_count": 14,
   "metadata": {},
   "outputs": [],
   "source": [
    "for k,v in d.items():\n",
    "    if (k==600) | (k==612) | (k==613):\n",
    "        historico=solicita_datos_precios(fecha_ini_,fecha_fin_,k,v)\n",
    "    else:    \n",
    "        historico=solicita_datos_general(fecha_ini_,fecha_fin_,k)\n",
    "        historico.columns=[str(v)]\n",
    "    datos_esios=pd.concat([datos_esios,historico],axis=1)\n",
    "    "
   ]
  },
  {
   "cell_type": "code",
   "execution_count": 15,
   "metadata": {},
   "outputs": [
    {
     "data": {
      "text/html": [
       "<div>\n",
       "<style scoped>\n",
       "    .dataframe tbody tr th:only-of-type {\n",
       "        vertical-align: middle;\n",
       "    }\n",
       "\n",
       "    .dataframe tbody tr th {\n",
       "        vertical-align: top;\n",
       "    }\n",
       "\n",
       "    .dataframe thead th {\n",
       "        text-align: right;\n",
       "    }\n",
       "</style>\n",
       "<table border=\"1\" class=\"dataframe\">\n",
       "  <thead>\n",
       "    <tr style=\"text-align: right;\">\n",
       "      <th></th>\n",
       "      <th>P48_EOLICA</th>\n",
       "      <th>P48_DEMANDA</th>\n",
       "      <th>P48_CARBON</th>\n",
       "      <th>POT_DISP_HULLA_ANT</th>\n",
       "      <th>POT_DISP_HULA_SB</th>\n",
       "      <th>PRECIO_MD_ESP</th>\n",
       "      <th>PRECIO_MD_FR</th>\n",
       "      <th>PRECIO_I1</th>\n",
       "      <th>PRECIO_I2</th>\n",
       "    </tr>\n",
       "    <tr>\n",
       "      <th>datetime</th>\n",
       "      <th></th>\n",
       "      <th></th>\n",
       "      <th></th>\n",
       "      <th></th>\n",
       "      <th></th>\n",
       "      <th></th>\n",
       "      <th></th>\n",
       "      <th></th>\n",
       "      <th></th>\n",
       "    </tr>\n",
       "  </thead>\n",
       "  <tbody>\n",
       "    <tr>\n",
       "      <th>2015-10-01 00:00:00</th>\n",
       "      <td>2196.1</td>\n",
       "      <td>24517.1</td>\n",
       "      <td>8203.3</td>\n",
       "      <td>5355.4</td>\n",
       "      <td>4705.3</td>\n",
       "      <td>56.65</td>\n",
       "      <td>38.56</td>\n",
       "      <td>56.31</td>\n",
       "      <td>58.30</td>\n",
       "    </tr>\n",
       "    <tr>\n",
       "      <th>2015-10-01 01:00:00</th>\n",
       "      <td>2064.4</td>\n",
       "      <td>23168.6</td>\n",
       "      <td>8286.8</td>\n",
       "      <td>5355.4</td>\n",
       "      <td>4705.3</td>\n",
       "      <td>53.50</td>\n",
       "      <td>31.27</td>\n",
       "      <td>54.25</td>\n",
       "      <td>56.60</td>\n",
       "    </tr>\n",
       "    <tr>\n",
       "      <th>2015-10-01 02:00:00</th>\n",
       "      <td>1866.5</td>\n",
       "      <td>22437.2</td>\n",
       "      <td>8301.3</td>\n",
       "      <td>5355.4</td>\n",
       "      <td>4705.3</td>\n",
       "      <td>49.69</td>\n",
       "      <td>30.66</td>\n",
       "      <td>49.69</td>\n",
       "      <td>51.58</td>\n",
       "    </tr>\n",
       "    <tr>\n",
       "      <th>2015-10-01 03:00:00</th>\n",
       "      <td>1660.9</td>\n",
       "      <td>22281.3</td>\n",
       "      <td>8281.3</td>\n",
       "      <td>5355.4</td>\n",
       "      <td>4705.3</td>\n",
       "      <td>49.10</td>\n",
       "      <td>29.14</td>\n",
       "      <td>49.10</td>\n",
       "      <td>49.57</td>\n",
       "    </tr>\n",
       "    <tr>\n",
       "      <th>2015-10-01 04:00:00</th>\n",
       "      <td>1373.9</td>\n",
       "      <td>21909.7</td>\n",
       "      <td>8247.7</td>\n",
       "      <td>5355.4</td>\n",
       "      <td>4705.3</td>\n",
       "      <td>51.25</td>\n",
       "      <td>29.40</td>\n",
       "      <td>51.25</td>\n",
       "      <td>52.00</td>\n",
       "    </tr>\n",
       "  </tbody>\n",
       "</table>\n",
       "</div>"
      ],
      "text/plain": [
       "                     P48_EOLICA  P48_DEMANDA  P48_CARBON  POT_DISP_HULLA_ANT  \\\n",
       "datetime                                                                       \n",
       "2015-10-01 00:00:00      2196.1      24517.1      8203.3              5355.4   \n",
       "2015-10-01 01:00:00      2064.4      23168.6      8286.8              5355.4   \n",
       "2015-10-01 02:00:00      1866.5      22437.2      8301.3              5355.4   \n",
       "2015-10-01 03:00:00      1660.9      22281.3      8281.3              5355.4   \n",
       "2015-10-01 04:00:00      1373.9      21909.7      8247.7              5355.4   \n",
       "\n",
       "                     POT_DISP_HULA_SB  PRECIO_MD_ESP  PRECIO_MD_FR  PRECIO_I1  \\\n",
       "datetime                                                                        \n",
       "2015-10-01 00:00:00            4705.3          56.65         38.56      56.31   \n",
       "2015-10-01 01:00:00            4705.3          53.50         31.27      54.25   \n",
       "2015-10-01 02:00:00            4705.3          49.69         30.66      49.69   \n",
       "2015-10-01 03:00:00            4705.3          49.10         29.14      49.10   \n",
       "2015-10-01 04:00:00            4705.3          51.25         29.40      51.25   \n",
       "\n",
       "                     PRECIO_I2  \n",
       "datetime                        \n",
       "2015-10-01 00:00:00      58.30  \n",
       "2015-10-01 01:00:00      56.60  \n",
       "2015-10-01 02:00:00      51.58  \n",
       "2015-10-01 03:00:00      49.57  \n",
       "2015-10-01 04:00:00      52.00  "
      ]
     },
     "execution_count": 15,
     "metadata": {},
     "output_type": "execute_result"
    }
   ],
   "source": [
    "datos_esios.head()"
   ]
  },
  {
   "cell_type": "markdown",
   "metadata": {},
   "source": [
    "## 5. Check datos"
   ]
  },
  {
   "cell_type": "code",
   "execution_count": 16,
   "metadata": {
    "collapsed": true
   },
   "outputs": [
    {
     "data": {
      "text/html": [
       "<div>\n",
       "<style scoped>\n",
       "    .dataframe tbody tr th:only-of-type {\n",
       "        vertical-align: middle;\n",
       "    }\n",
       "\n",
       "    .dataframe tbody tr th {\n",
       "        vertical-align: top;\n",
       "    }\n",
       "\n",
       "    .dataframe thead th {\n",
       "        text-align: right;\n",
       "    }\n",
       "</style>\n",
       "<table border=\"1\" class=\"dataframe\">\n",
       "  <thead>\n",
       "    <tr style=\"text-align: right;\">\n",
       "      <th></th>\n",
       "      <th>P48_EOLICA</th>\n",
       "      <th>P48_DEMANDA</th>\n",
       "      <th>P48_CARBON</th>\n",
       "      <th>POT_DISP_HULLA_ANT</th>\n",
       "      <th>POT_DISP_HULA_SB</th>\n",
       "      <th>PRECIO_MD_ESP</th>\n",
       "      <th>PRECIO_MD_FR</th>\n",
       "      <th>PRECIO_I1</th>\n",
       "      <th>PRECIO_I2</th>\n",
       "    </tr>\n",
       "  </thead>\n",
       "  <tbody>\n",
       "    <tr>\n",
       "      <th>count</th>\n",
       "      <td>26304.000000</td>\n",
       "      <td>26304.000000</td>\n",
       "      <td>26304.000000</td>\n",
       "      <td>26304.000000</td>\n",
       "      <td>26304.000000</td>\n",
       "      <td>26304.000000</td>\n",
       "      <td>26304.000000</td>\n",
       "      <td>26304.00000</td>\n",
       "      <td>26304.000000</td>\n",
       "    </tr>\n",
       "    <tr>\n",
       "      <th>mean</th>\n",
       "      <td>5479.286014</td>\n",
       "      <td>28672.990169</td>\n",
       "      <td>4409.936025</td>\n",
       "      <td>4420.339625</td>\n",
       "      <td>4188.581794</td>\n",
       "      <td>48.739281</td>\n",
       "      <td>42.105033</td>\n",
       "      <td>48.46574</td>\n",
       "      <td>48.474287</td>\n",
       "    </tr>\n",
       "    <tr>\n",
       "      <th>std</th>\n",
       "      <td>3185.927399</td>\n",
       "      <td>4616.496856</td>\n",
       "      <td>2216.248299</td>\n",
       "      <td>474.038209</td>\n",
       "      <td>469.363759</td>\n",
       "      <td>14.954689</td>\n",
       "      <td>20.799903</td>\n",
       "      <td>15.09524</td>\n",
       "      <td>15.110244</td>\n",
       "    </tr>\n",
       "    <tr>\n",
       "      <th>min</th>\n",
       "      <td>240.800000</td>\n",
       "      <td>17728.400000</td>\n",
       "      <td>546.000000</td>\n",
       "      <td>2461.500000</td>\n",
       "      <td>2315.100000</td>\n",
       "      <td>2.060000</td>\n",
       "      <td>-31.820000</td>\n",
       "      <td>0.00000</td>\n",
       "      <td>0.000000</td>\n",
       "    </tr>\n",
       "    <tr>\n",
       "      <th>25%</th>\n",
       "      <td>3018.400000</td>\n",
       "      <td>24734.150000</td>\n",
       "      <td>2316.975000</td>\n",
       "      <td>4125.800000</td>\n",
       "      <td>3797.600000</td>\n",
       "      <td>40.137500</td>\n",
       "      <td>29.740000</td>\n",
       "      <td>40.05000</td>\n",
       "      <td>40.100000</td>\n",
       "    </tr>\n",
       "    <tr>\n",
       "      <th>50%</th>\n",
       "      <td>4822.950000</td>\n",
       "      <td>28920.600000</td>\n",
       "      <td>4634.000000</td>\n",
       "      <td>4483.200000</td>\n",
       "      <td>4148.100000</td>\n",
       "      <td>49.550000</td>\n",
       "      <td>39.165000</td>\n",
       "      <td>49.00000</td>\n",
       "      <td>48.950000</td>\n",
       "    </tr>\n",
       "    <tr>\n",
       "      <th>75%</th>\n",
       "      <td>7289.250000</td>\n",
       "      <td>32267.650000</td>\n",
       "      <td>6282.750000</td>\n",
       "      <td>4799.700000</td>\n",
       "      <td>4705.300000</td>\n",
       "      <td>59.450000</td>\n",
       "      <td>51.562500</td>\n",
       "      <td>58.90000</td>\n",
       "      <td>58.710000</td>\n",
       "    </tr>\n",
       "    <tr>\n",
       "      <th>max</th>\n",
       "      <td>16952.600000</td>\n",
       "      <td>41297.900000</td>\n",
       "      <td>8768.300000</td>\n",
       "      <td>9481.400000</td>\n",
       "      <td>8270.600000</td>\n",
       "      <td>101.990000</td>\n",
       "      <td>874.010000</td>\n",
       "      <td>102.49000</td>\n",
       "      <td>103.610000</td>\n",
       "    </tr>\n",
       "  </tbody>\n",
       "</table>\n",
       "</div>"
      ],
      "text/plain": [
       "         P48_EOLICA   P48_DEMANDA    P48_CARBON  POT_DISP_HULLA_ANT  \\\n",
       "count  26304.000000  26304.000000  26304.000000        26304.000000   \n",
       "mean    5479.286014  28672.990169   4409.936025         4420.339625   \n",
       "std     3185.927399   4616.496856   2216.248299          474.038209   \n",
       "min      240.800000  17728.400000    546.000000         2461.500000   \n",
       "25%     3018.400000  24734.150000   2316.975000         4125.800000   \n",
       "50%     4822.950000  28920.600000   4634.000000         4483.200000   \n",
       "75%     7289.250000  32267.650000   6282.750000         4799.700000   \n",
       "max    16952.600000  41297.900000   8768.300000         9481.400000   \n",
       "\n",
       "       POT_DISP_HULA_SB  PRECIO_MD_ESP  PRECIO_MD_FR    PRECIO_I1  \\\n",
       "count      26304.000000   26304.000000  26304.000000  26304.00000   \n",
       "mean        4188.581794      48.739281     42.105033     48.46574   \n",
       "std          469.363759      14.954689     20.799903     15.09524   \n",
       "min         2315.100000       2.060000    -31.820000      0.00000   \n",
       "25%         3797.600000      40.137500     29.740000     40.05000   \n",
       "50%         4148.100000      49.550000     39.165000     49.00000   \n",
       "75%         4705.300000      59.450000     51.562500     58.90000   \n",
       "max         8270.600000     101.990000    874.010000    102.49000   \n",
       "\n",
       "          PRECIO_I2  \n",
       "count  26304.000000  \n",
       "mean      48.474287  \n",
       "std       15.110244  \n",
       "min        0.000000  \n",
       "25%       40.100000  \n",
       "50%       48.950000  \n",
       "75%       58.710000  \n",
       "max      103.610000  "
      ]
     },
     "execution_count": 16,
     "metadata": {},
     "output_type": "execute_result"
    }
   ],
   "source": [
    "datos_esios.describe()"
   ]
  },
  {
   "cell_type": "code",
   "execution_count": 17,
   "metadata": {},
   "outputs": [
    {
     "data": {
      "text/plain": [
       "(26304, 9)"
      ]
     },
     "execution_count": 17,
     "metadata": {},
     "output_type": "execute_result"
    }
   ],
   "source": [
    "datos_esios.shape  #para testear que no tengo NA"
   ]
  },
  {
   "cell_type": "code",
   "execution_count": 32,
   "metadata": {},
   "outputs": [
    {
     "data": {
      "text/plain": [
       "P48_EOLICA            3493\n",
       "P48_DEMANDA           3493\n",
       "P48_CARBON            3493\n",
       "POT_DISP_HULLA_ANT    3493\n",
       "POT_DISP_HULA_SB      3493\n",
       "PRECIO_MD_ESP         3493\n",
       "PRECIO_MD_FR          3493\n",
       "PRECIO_I1             3493\n",
       "PRECIO_I2             3493\n",
       "dtype: int64"
      ]
     },
     "execution_count": 32,
     "metadata": {},
     "output_type": "execute_result"
    }
   ],
   "source": [
    "datos_esios[datos_esios['PRECIO_MD_ESP']==datos_esios['PRECIO_I1']].count()"
   ]
  },
  {
   "cell_type": "code",
   "execution_count": 33,
   "metadata": {},
   "outputs": [
    {
     "data": {
      "text/plain": [
       "P48_EOLICA            793\n",
       "P48_DEMANDA           793\n",
       "P48_CARBON            793\n",
       "POT_DISP_HULLA_ANT    793\n",
       "POT_DISP_HULA_SB      793\n",
       "PRECIO_MD_ESP         793\n",
       "PRECIO_MD_FR          793\n",
       "PRECIO_I1             793\n",
       "PRECIO_I2             793\n",
       "dtype: int64"
      ]
     },
     "execution_count": 33,
     "metadata": {},
     "output_type": "execute_result"
    }
   ],
   "source": [
    "datos_esios[(datos_esios['PRECIO_MD_ESP']==datos_esios['PRECIO_I1']) & (datos_esios['PRECIO_I2']==datos_esios['PRECIO_I1'])].count()"
   ]
  },
  {
   "cell_type": "markdown",
   "metadata": {},
   "source": [
    "De los 26.304 datos, hay 3.493 casos en los que el precio del mercado diario coincidió con el del intra, y de esos, 793 horas en las que además el intradiario 2 tampoco subió/bajó con respecto al diario.\n",
    "\n",
    "Nuestra clasificación será:\n",
    "\n",
    "* Si PMI1 > PMD -> 0\n",
    "\n",
    "* Si PMI1 < PMD -> 1\n",
    "\n",
    "* Si PMI1 == PMD:\n",
    "\n",
    "    * Si PMI2 > PMD -> 0\n",
    "    * Si PMI2 <= PMD -> 1 "
   ]
  },
  {
   "cell_type": "markdown",
   "metadata": {},
   "source": [
    "## 6. Salvar datos"
   ]
  },
  {
   "cell_type": "code",
   "execution_count": 34,
   "metadata": {
    "collapsed": true
   },
   "outputs": [],
   "source": [
    "datos_esios.to_csv('../data/datos_esios.csv',sep=';')"
   ]
  }
 ],
 "metadata": {
  "kernelspec": {
   "display_name": "Python 3",
   "language": "python",
   "name": "python3"
  },
  "language_info": {
   "codemirror_mode": {
    "name": "ipython",
    "version": 3
   },
   "file_extension": ".py",
   "mimetype": "text/x-python",
   "name": "python",
   "nbconvert_exporter": "python",
   "pygments_lexer": "ipython3",
   "version": "3.6.5"
  }
 },
 "nbformat": 4,
 "nbformat_minor": 2
}
