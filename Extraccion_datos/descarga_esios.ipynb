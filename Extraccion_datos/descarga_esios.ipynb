{
 "cells": [
  {
   "cell_type": "markdown",
   "metadata": {},
   "source": [
    "# Descarga datos esios\n",
    "\n",
    "## Documentacion:\n",
    "\n",
    "La nueva web pública de e·sios pone a disposición de todos los usuarios una API para la descarga de información, cuya documentación se encuentra disponible en https://api.esios.ree.es.\n",
    "\n",
    "Para poder utilizar esta API deberán solicitar un token personal enviando un correo a **consultasios@ree.es**.En mi caso:\n",
    "\n",
    "token: 9d6bcd627698602fbcd18721cca88b90d0f6e6025963f86be84fa18c87801a10\n",
    "\n",
    "En nuestro caso, la solicitud de datos será para un periodo de tiempo solicitando los datos por código indicador:\n",
    "\n",
    "https://api.esios.ree.es/indicator/getting_a_specific_indicator_filtering_values_by_a_date_range\n"
   ]
  },
  {
   "cell_type": "markdown",
   "metadata": {},
   "source": [
    "## 1. Importamos librerías necesarias"
   ]
  },
  {
   "cell_type": "code",
   "execution_count": 1,
   "metadata": {
    "collapsed": true
   },
   "outputs": [],
   "source": [
    "import pandas as pd\n",
    "import numpy as np\n",
    "import requests\n",
    "import json"
   ]
  },
  {
   "cell_type": "code",
   "execution_count": 2,
   "metadata": {
    "collapsed": true
   },
   "outputs": [
    {
     "data": {
      "text/plain": [
       "\u001b[0;31mSignature:\u001b[0m \u001b[0mrequests\u001b[0m\u001b[0;34m.\u001b[0m\u001b[0mget\u001b[0m\u001b[0;34m(\u001b[0m\u001b[0murl\u001b[0m\u001b[0;34m,\u001b[0m \u001b[0mparams\u001b[0m\u001b[0;34m=\u001b[0m\u001b[0;32mNone\u001b[0m\u001b[0;34m,\u001b[0m \u001b[0;34m**\u001b[0m\u001b[0mkwargs\u001b[0m\u001b[0;34m)\u001b[0m\u001b[0;34m\u001b[0m\u001b[0m\n",
       "\u001b[0;31mDocstring:\u001b[0m\n",
       "Sends a GET request.\n",
       "\n",
       ":param url: URL for the new :class:`Request` object.\n",
       ":param params: (optional) Dictionary or bytes to be sent in the query string for the :class:`Request`.\n",
       ":param \\*\\*kwargs: Optional arguments that ``request`` takes.\n",
       ":return: :class:`Response <Response>` object\n",
       ":rtype: requests.Response\n",
       "\u001b[0;31mFile:\u001b[0m      /anaconda3/lib/python3.6/site-packages/requests/api.py\n",
       "\u001b[0;31mType:\u001b[0m      function\n"
      ]
     },
     "metadata": {},
     "output_type": "display_data"
    }
   ],
   "source": [
    "requests.get?"
   ]
  },
  {
   "cell_type": "markdown",
   "metadata": {},
   "source": [
    "## 2. Definición features\n",
    "\n",
    "Creamos diccionario"
   ]
  },
  {
   "cell_type": "code",
   "execution_count": 2,
   "metadata": {
    "collapsed": true
   },
   "outputs": [],
   "source": [
    "d={10010: 'P48_EOLICA',\n",
    "   10027: 'P48_DEMANDA',\n",
    "   10008: 'P48_CARBON',\n",
    "   #475: 'POT_DISP_HULLA_ANT',  #Los tendremos que sumar para obtener MW disponibles Carbón\n",
    "   #476: 'POT_DISP_HULA_SB',\n",
    "   #600: [['PRECIO_MD_ESP',3],['PRECIO_MD_FR',2]],\n",
    "   #612: 'PRECIO_I1'\n",
    "  }"
   ]
  },
  {
   "cell_type": "code",
   "execution_count": 3,
   "metadata": {},
   "outputs": [
    {
     "data": {
      "text/plain": [
       "dict_items([(10010, 'P48_EOLICA'), (10027, 'P48_DEMANDA'), (10008, 'P48_CARBON'), (600, [['PRECIO_MD_ESP', 3], ['PRECIO_MD_FR', 2]])])"
      ]
     },
     "execution_count": 3,
     "metadata": {},
     "output_type": "execute_result"
    }
   ],
   "source": [
    "d.items()"
   ]
  },
  {
   "cell_type": "markdown",
   "metadata": {},
   "source": [
    "En el caso del id_precios habrá que adentrarse un nivel adicional y consultar GEOIDS:\n",
    "\n",
    "* ESPAÑA = 3\n",
    "* FRANCIA = 2"
   ]
  },
  {
   "cell_type": "markdown",
   "metadata": {},
   "source": [
    "## 3. Funciones solicitud datos\n",
    "\n",
    "Función para obtener los datos del indicador *ind* solicitado entre dos fechas dadas.\n",
    "\n",
    "En nuestro dataset se nos presentan 2 peculiaridades a introducir en la función:\n",
    "\n",
    "1) Existe un único indicador para los precios de cada mercado, diferenciándose el pais por el parámetro GEOIDS --> **solicita_datos_precios**\n",
    "\n",
    "2) Los datos de potencia disponible hay que agregarlos porque viene desglosada en comunidades --> **solicita datos disponibles**"
   ]
  },
  {
   "cell_type": "code",
   "execution_count": 23,
   "metadata": {},
   "outputs": [],
   "source": [
    "def solicita_datos_general(fecha_ini,fecha_fin,ind):\n",
    "\n",
    "    headers_={'Accept': 'application/json; application/vnd.esios-api-v1+json',\n",
    "              'Content-Type': 'application/json',\n",
    "              'Host': 'api.esios.ree.es',\n",
    "              'Authorization': 'Token token=\"9d6bcd627698602fbcd18721cca88b90d0f6e6025963f86be84fa18c87801a10\"',\n",
    "              'Cookie':''\n",
    "             }\n",
    "\n",
    "    query_parametros_={'start_date': fecha_ini,\n",
    "                'end_date':fecha_fin}\n",
    "\n",
    "    url_='https://api.esios.ree.es/indicators/' + str(ind)\n",
    "    \n",
    "    #Hacemos peticion:\n",
    "    r = requests.get(url_,headers=headers_,params=query_parametros_)\n",
    "    \n",
    "    #Comprobamos que trae datos\n",
    "    assert r.status_code==200\n",
    "    \n",
    "    #r.content --> durante el diseño para explorar datos\n",
    "    \n",
    "    data=json.loads(r.content)\n",
    "    \n",
    "    #type(data)\n",
    "    #data['indicator']['values'] --> durante el diseño para explorar datos\n",
    "    \n",
    "    df_data=pd.DataFrame(data['indicator']['values'])\n",
    "    \n",
    "    #df_data.dtypes --> Tenemos que convertir las fechas a formato fecha\n",
    "    #y crear nuestro df\n",
    "    \n",
    "    df=pd.DataFrame()        \n",
    "    df['datetime']=pd.to_datetime([f[:10] + ' ' + f[11:13] + ':00:00' for f in df_data['datetime']]) \n",
    "    df['value']=df_data['value']\n",
    "    \n",
    "    #df['period']=pd.Series([int(f[11:13])+1 for f in df_data['datetime']]) La crearemos al final\n",
    "    \n",
    "    df=df.set_index('datetime')\n",
    "\n",
    "    return df"
   ]
  },
  {
   "cell_type": "code",
   "execution_count": 116,
   "metadata": {},
   "outputs": [],
   "source": [
    "def solicita_datos_precios(fecha_ini,fecha_fin,lista):\n",
    "    \n",
    "    headers_={'Accept': 'application/json; application/vnd.esios-api-v1+json',\n",
    "              'Content-Type': 'application/json',\n",
    "              'Host': 'api.esios.ree.es',\n",
    "              'Authorization': 'Token token=\"9d6bcd627698602fbcd18721cca88b90d0f6e6025963f86be84fa18c87801a10\"',\n",
    "              'Cookie':''\n",
    "             }\n",
    "\n",
    "    query_parametros_={'start_date': fecha_ini,\n",
    "                       'end_date': fecha_fin}\n",
    "\n",
    "    url_='https://api.esios.ree.es/indicators/600'\n",
    "\n",
    "    #Hacemos peticion:\n",
    "    r = requests.get(url_,headers=headers_,params=query_parametros_)\n",
    "\n",
    "    #Comprobamos que trae datos\n",
    "    assert r.status_code==200\n",
    "\n",
    "    data=json.loads(r.content)\n",
    "\n",
    "    data['indicator']['values'] \n",
    "\n",
    "    df_data=pd.DataFrame(data['indicator']['values'])\n",
    "\n",
    "    df=pd.DataFrame()\n",
    "    for i in enumerate(lista):\n",
    "        df_subset=pd.DataFrame()\n",
    "        df_data_subset=df_data[df_data['geo_id']==i[1][1]]\n",
    "        df_subset['datetime']=pd.to_datetime([f[:10] + ' ' + f[11:13] + ':00:00' for f in df_data_subset['datetime']]) \n",
    "        df_subset['value']=df_data_subset['value']\n",
    "        print(df_subset)\n",
    "        #df_subset[i[1][0]]=df_data_subset['value']\n",
    "        #df_subset=df_subset.set_index('datetime')\n",
    "        #print(df_subset)\n",
    "    #return df\n",
    "        \n",
    "       \n",
    " "
   ]
  },
  {
   "cell_type": "code",
   "execution_count": 117,
   "metadata": {},
   "outputs": [
    {
     "name": "stdout",
     "output_type": "stream",
     "text": [
      "              datetime  value\n",
      "0  2015-10-01 00:00:00    NaN\n",
      "1  2015-10-01 01:00:00    NaN\n",
      "2  2015-10-01 02:00:00  56.65\n",
      "3  2015-10-01 03:00:00    NaN\n",
      "4  2015-10-01 04:00:00    NaN\n",
      "5  2015-10-01 05:00:00  53.50\n",
      "6  2015-10-01 06:00:00    NaN\n",
      "7  2015-10-01 07:00:00    NaN\n",
      "8  2015-10-01 08:00:00  49.69\n",
      "9  2015-10-01 09:00:00    NaN\n",
      "10 2015-10-01 10:00:00    NaN\n",
      "11 2015-10-01 11:00:00  49.10\n",
      "12 2015-10-01 12:00:00    NaN\n",
      "13 2015-10-01 13:00:00    NaN\n",
      "14 2015-10-01 14:00:00  51.25\n",
      "15 2015-10-01 15:00:00    NaN\n",
      "16 2015-10-01 16:00:00    NaN\n",
      "17 2015-10-01 17:00:00  53.60\n",
      "18 2015-10-01 18:00:00    NaN\n",
      "19 2015-10-01 19:00:00    NaN\n",
      "20 2015-10-01 20:00:00  58.02\n",
      "21 2015-10-01 21:00:00    NaN\n",
      "22 2015-10-01 22:00:00    NaN\n",
      "23 2015-10-01 23:00:00  63.03\n",
      "              datetime  value\n",
      "0  2015-10-01 00:00:00    NaN\n",
      "1  2015-10-01 01:00:00  38.56\n",
      "2  2015-10-01 02:00:00    NaN\n",
      "3  2015-10-01 03:00:00    NaN\n",
      "4  2015-10-01 04:00:00  31.27\n",
      "5  2015-10-01 05:00:00    NaN\n",
      "6  2015-10-01 06:00:00    NaN\n",
      "7  2015-10-01 07:00:00  30.66\n",
      "8  2015-10-01 08:00:00    NaN\n",
      "9  2015-10-01 09:00:00    NaN\n",
      "10 2015-10-01 10:00:00  29.14\n",
      "11 2015-10-01 11:00:00    NaN\n",
      "12 2015-10-01 12:00:00    NaN\n",
      "13 2015-10-01 13:00:00  29.40\n",
      "14 2015-10-01 14:00:00    NaN\n",
      "15 2015-10-01 15:00:00    NaN\n",
      "16 2015-10-01 16:00:00  32.87\n",
      "17 2015-10-01 17:00:00    NaN\n",
      "18 2015-10-01 18:00:00    NaN\n",
      "19 2015-10-01 19:00:00  44.97\n",
      "20 2015-10-01 20:00:00    NaN\n",
      "21 2015-10-01 21:00:00    NaN\n",
      "22 2015-10-01 22:00:00  56.00\n",
      "23 2015-10-01 23:00:00    NaN\n"
     ]
    }
   ],
   "source": [
    "a=solicita_datos_precios('2015-10-01 00:00:00','2015-10-01 23:59:59',[['PRECIO_MD_ESP',3],['PRECIO_MD_FR',2]])\n"
   ]
  },
  {
   "cell_type": "markdown",
   "metadata": {},
   "source": [
    "df['datetime']=pd.to_datetime([f[:10] + ' ' + f[11:13] + ':00:00' for f in df_data_subset['datetime']]) \n",
    "        df=df.set_index('datetime')\n",
    "        df.columns=[str(i[1][0])]\n",
    "        historico=pd.concat([df,historico],axis=1)\n",
    "        historico.head()"
   ]
  },
  {
   "cell_type": "markdown",
   "metadata": {},
   "source": [
    "## 4. Agregación dataset"
   ]
  },
  {
   "cell_type": "code",
   "execution_count": 24,
   "metadata": {},
   "outputs": [],
   "source": [
    "datos_esios=pd.DataFrame()  #será nuestro set de datos\n",
    "\n",
    "fecha_ini_='2015-10-01 00:00:00'\n",
    "fecha_fin_='2018-09-30 23:59:59'"
   ]
  },
  {
   "cell_type": "markdown",
   "metadata": {},
   "source": [
    "Definimos parámetros de entrada:\n",
    "\n",
    "La idea inicial es que mi dataset empiece en 01/10/2015 hasta 30/09/2018.\n",
    "\n",
    "He escogido 3 años móviles, teniendo en cuenta que el año hidráulico comienza el octubre (y la hidraulicidad es importante en el Mercado eléctrico) e intentar evitar el efecto de cambios regulatorios en la mayor medida posible"
   ]
  },
  {
   "cell_type": "code",
   "execution_count": 28,
   "metadata": {},
   "outputs": [],
   "source": [
    "for k,v in d.items():\n",
    "    historico=solicita_datos_general(fecha_ini_,fecha_fin_,k)\n",
    "    historico.columns=[str(v)]\n",
    "    datos_esios=pd.concat([datos_esios,historico],axis=1)"
   ]
  },
  {
   "cell_type": "code",
   "execution_count": 30,
   "metadata": {},
   "outputs": [
    {
     "data": {
      "text/html": [
       "<div>\n",
       "<style scoped>\n",
       "    .dataframe tbody tr th:only-of-type {\n",
       "        vertical-align: middle;\n",
       "    }\n",
       "\n",
       "    .dataframe tbody tr th {\n",
       "        vertical-align: top;\n",
       "    }\n",
       "\n",
       "    .dataframe thead th {\n",
       "        text-align: right;\n",
       "    }\n",
       "</style>\n",
       "<table border=\"1\" class=\"dataframe\">\n",
       "  <thead>\n",
       "    <tr style=\"text-align: right;\">\n",
       "      <th></th>\n",
       "      <th>P48_EOLICA</th>\n",
       "      <th>P48_DEMANDA</th>\n",
       "      <th>P48_CARBON</th>\n",
       "    </tr>\n",
       "    <tr>\n",
       "      <th>datetime</th>\n",
       "      <th></th>\n",
       "      <th></th>\n",
       "      <th></th>\n",
       "    </tr>\n",
       "  </thead>\n",
       "  <tbody>\n",
       "    <tr>\n",
       "      <th>2015-10-01 00:00:00</th>\n",
       "      <td>2196.1</td>\n",
       "      <td>24517.1</td>\n",
       "      <td>8203.3</td>\n",
       "    </tr>\n",
       "    <tr>\n",
       "      <th>2015-10-01 01:00:00</th>\n",
       "      <td>2064.4</td>\n",
       "      <td>23168.6</td>\n",
       "      <td>8286.8</td>\n",
       "    </tr>\n",
       "    <tr>\n",
       "      <th>2015-10-01 02:00:00</th>\n",
       "      <td>1866.5</td>\n",
       "      <td>22437.2</td>\n",
       "      <td>8301.3</td>\n",
       "    </tr>\n",
       "    <tr>\n",
       "      <th>2015-10-01 03:00:00</th>\n",
       "      <td>1660.9</td>\n",
       "      <td>22281.3</td>\n",
       "      <td>8281.3</td>\n",
       "    </tr>\n",
       "    <tr>\n",
       "      <th>2015-10-01 04:00:00</th>\n",
       "      <td>1373.9</td>\n",
       "      <td>21909.7</td>\n",
       "      <td>8247.7</td>\n",
       "    </tr>\n",
       "  </tbody>\n",
       "</table>\n",
       "</div>"
      ],
      "text/plain": [
       "                     P48_EOLICA  P48_DEMANDA  P48_CARBON\n",
       "datetime                                                \n",
       "2015-10-01 00:00:00      2196.1      24517.1      8203.3\n",
       "2015-10-01 01:00:00      2064.4      23168.6      8286.8\n",
       "2015-10-01 02:00:00      1866.5      22437.2      8301.3\n",
       "2015-10-01 03:00:00      1660.9      22281.3      8281.3\n",
       "2015-10-01 04:00:00      1373.9      21909.7      8247.7"
      ]
     },
     "execution_count": 30,
     "metadata": {},
     "output_type": "execute_result"
    }
   ],
   "source": [
    "datos_esios.head()"
   ]
  },
  {
   "cell_type": "markdown",
   "metadata": {},
   "source": [
    "## 5. Check datos"
   ]
  },
  {
   "cell_type": "code",
   "execution_count": 31,
   "metadata": {
    "collapsed": true
   },
   "outputs": [
    {
     "data": {
      "text/html": [
       "<div>\n",
       "<style scoped>\n",
       "    .dataframe tbody tr th:only-of-type {\n",
       "        vertical-align: middle;\n",
       "    }\n",
       "\n",
       "    .dataframe tbody tr th {\n",
       "        vertical-align: top;\n",
       "    }\n",
       "\n",
       "    .dataframe thead th {\n",
       "        text-align: right;\n",
       "    }\n",
       "</style>\n",
       "<table border=\"1\" class=\"dataframe\">\n",
       "  <thead>\n",
       "    <tr style=\"text-align: right;\">\n",
       "      <th></th>\n",
       "      <th>P48_EOLICA</th>\n",
       "      <th>P48_DEMANDA</th>\n",
       "      <th>P48_CARBON</th>\n",
       "    </tr>\n",
       "  </thead>\n",
       "  <tbody>\n",
       "    <tr>\n",
       "      <th>count</th>\n",
       "      <td>26304.000000</td>\n",
       "      <td>26304.000000</td>\n",
       "      <td>26304.000000</td>\n",
       "    </tr>\n",
       "    <tr>\n",
       "      <th>mean</th>\n",
       "      <td>5479.286014</td>\n",
       "      <td>28672.990169</td>\n",
       "      <td>4409.936025</td>\n",
       "    </tr>\n",
       "    <tr>\n",
       "      <th>std</th>\n",
       "      <td>3185.927399</td>\n",
       "      <td>4616.496856</td>\n",
       "      <td>2216.248299</td>\n",
       "    </tr>\n",
       "    <tr>\n",
       "      <th>min</th>\n",
       "      <td>240.800000</td>\n",
       "      <td>17728.400000</td>\n",
       "      <td>546.000000</td>\n",
       "    </tr>\n",
       "    <tr>\n",
       "      <th>25%</th>\n",
       "      <td>3018.400000</td>\n",
       "      <td>24734.150000</td>\n",
       "      <td>2316.975000</td>\n",
       "    </tr>\n",
       "    <tr>\n",
       "      <th>50%</th>\n",
       "      <td>4822.950000</td>\n",
       "      <td>28920.600000</td>\n",
       "      <td>4634.000000</td>\n",
       "    </tr>\n",
       "    <tr>\n",
       "      <th>75%</th>\n",
       "      <td>7289.250000</td>\n",
       "      <td>32267.650000</td>\n",
       "      <td>6282.750000</td>\n",
       "    </tr>\n",
       "    <tr>\n",
       "      <th>max</th>\n",
       "      <td>16952.600000</td>\n",
       "      <td>41297.900000</td>\n",
       "      <td>8768.300000</td>\n",
       "    </tr>\n",
       "  </tbody>\n",
       "</table>\n",
       "</div>"
      ],
      "text/plain": [
       "         P48_EOLICA   P48_DEMANDA    P48_CARBON\n",
       "count  26304.000000  26304.000000  26304.000000\n",
       "mean    5479.286014  28672.990169   4409.936025\n",
       "std     3185.927399   4616.496856   2216.248299\n",
       "min      240.800000  17728.400000    546.000000\n",
       "25%     3018.400000  24734.150000   2316.975000\n",
       "50%     4822.950000  28920.600000   4634.000000\n",
       "75%     7289.250000  32267.650000   6282.750000\n",
       "max    16952.600000  41297.900000   8768.300000"
      ]
     },
     "execution_count": 31,
     "metadata": {},
     "output_type": "execute_result"
    }
   ],
   "source": [
    "datos_esios.describe()"
   ]
  },
  {
   "cell_type": "code",
   "execution_count": 32,
   "metadata": {},
   "outputs": [
    {
     "data": {
      "text/plain": [
       "(26304, 3)"
      ]
     },
     "execution_count": 32,
     "metadata": {},
     "output_type": "execute_result"
    }
   ],
   "source": [
    "datos_esios.shape  #para testear que no tengo NA"
   ]
  },
  {
   "cell_type": "markdown",
   "metadata": {},
   "source": [
    "## 6. Salvar datos"
   ]
  },
  {
   "cell_type": "code",
   "execution_count": null,
   "metadata": {
    "collapsed": true
   },
   "outputs": [],
   "source": []
  }
 ],
 "metadata": {
  "kernelspec": {
   "display_name": "Python 3",
   "language": "python",
   "name": "python3"
  },
  "language_info": {
   "codemirror_mode": {
    "name": "ipython",
    "version": 3
   },
   "file_extension": ".py",
   "mimetype": "text/x-python",
   "name": "python",
   "nbconvert_exporter": "python",
   "pygments_lexer": "ipython3",
   "version": "3.6.5"
  }
 },
 "nbformat": 4,
 "nbformat_minor": 2
}
