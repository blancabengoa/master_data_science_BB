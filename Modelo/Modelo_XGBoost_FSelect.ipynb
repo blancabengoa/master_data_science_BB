{
 "cells": [
  {
   "cell_type": "markdown",
   "metadata": {},
   "source": [
    "# MODELO CLASIFICADOR XGBOOST - FEATURE SELECTION\n",
    "\n",
    "Ayuda para la realización de este notebook: https://machinelearningmastery.com/feature-importance-and-feature-selection-with-xgboost-in-python/\n",
    "\n",
    "De los 3 casos analizados, el mejor modelo es **XGBOOST** con **n_estimators=500**. De aquí en adelante tan solo analizaré mejoras en este modelo.\n",
    "\n",
    "#### Memoria de lo realizado hasta ahora:\n",
    "\n",
    "* Se comprobó en el notebook *Modelo_clasificador_3.ipynb* que resultaba algo mejor utilizar un tamaño de 2 años y descartar el 1 año del dataset por tratarse de un escenario muy distinto al actual.\n",
    "\n",
    "* Se eliminó la variable *ACOPLADO_FR* al no aportar ninguna mejora para evitar considerar ruido.\n",
    "\n",
    "Al entrenar el modelo XGBoost en *Modelo_clasificador_3.ipynb* y recuperar la importancia de los features que lo componen, se vió como realmente había 5 variables que resaltaban frente a las demás. En este notebook recupero este modelo (guardado en path='/Users/blancabengoa/Desktop/KSchool/TFM/Modelo3/') y la división de train-test utilizada y analizo si mejoraría mi accuracy si solo me quedase con las variables más importantes. \n",
    "\n",
    "Aunque no se trata de un dataset con un excesivo número de características, compruebo que el hecho de considerar \"ruido\" no distorsione mi resultado."
   ]
  },
  {
   "cell_type": "markdown",
   "metadata": {},
   "source": [
    "**Librerías necesarias**"
   ]
  },
  {
   "cell_type": "code",
   "execution_count": 1,
   "metadata": {},
   "outputs": [],
   "source": [
    "import pandas as pd\n",
    "import numpy as np\n",
    "import datetime as dt\n",
    "import pickle\n",
    "\n",
    "import matplotlib.pyplot as plt\n",
    "from matplotlib import colors\n",
    "import seaborn as sns\n",
    "import altair as alt\n",
    "\n",
    "%matplotlib inline\n",
    "plt.style.use('ggplot')\n",
    "\n",
    "#Librerías para modelos\n",
    "\n",
    "from xgboost import XGBClassifier\n",
    "from xgboost import plot_importance\n",
    "\n",
    "from sklearn.metrics import accuracy_score\n",
    "from sklearn.model_selection import cross_val_score\n",
    "\n",
    "from sklearn.feature_selection import SelectKBest\n",
    "from sklearn.feature_selection import SelectFromModel\n",
    "from sklearn.feature_selection import RFE\n",
    "\n",
    "from sklearn.metrics import classification_report, confusion_matrix, precision_score"
   ]
  },
  {
   "cell_type": "code",
   "execution_count": 2,
   "metadata": {},
   "outputs": [],
   "source": [
    "pd.options.display.max_columns= None"
   ]
  },
  {
   "cell_type": "markdown",
   "metadata": {},
   "source": [
    "Descargo los resultados de *Modelo_Clasificador_3.ipynb*"
   ]
  },
  {
   "cell_type": "code",
   "execution_count": 3,
   "metadata": {},
   "outputs": [],
   "source": [
    "path='/Users/blancabengoa/Desktop/KSchool/TFM/Modelo3/'"
   ]
  },
  {
   "cell_type": "code",
   "execution_count": 4,
   "metadata": {},
   "outputs": [],
   "source": [
    "X_train = pickle.load(open(path + \"X_train.pkl\",\"rb\"))\n",
    "X_test = pickle.load(open(path + \"X_test.pkl\",\"rb\"))\n",
    "y_train = pickle.load(open(path + \"y_train.pkl\",\"rb\"))\n",
    "y_test = pickle.load(open(path + \"y_test.pkl\",\"rb\"))"
   ]
  },
  {
   "cell_type": "code",
   "execution_count": 5,
   "metadata": {},
   "outputs": [],
   "source": [
    "model=pickle.load(open(path + \"clfxb_3.pkl\",\"rb\"))"
   ]
  },
  {
   "cell_type": "markdown",
   "metadata": {},
   "source": [
    "### Recupero resultados del modelo:"
   ]
  },
  {
   "cell_type": "markdown",
   "metadata": {},
   "source": [
    "#### 1) Parámetros"
   ]
  },
  {
   "cell_type": "code",
   "execution_count": 6,
   "metadata": {},
   "outputs": [
    {
     "name": "stdout",
     "output_type": "stream",
     "text": [
      "{'base_score': 0.5, 'booster': 'gbtree', 'colsample_bylevel': 1, 'colsample_bytree': 1, 'gamma': 0, 'learning_rate': 0.1, 'max_delta_step': 0, 'max_depth': 3, 'min_child_weight': 1, 'missing': nan, 'n_estimators': 500, 'n_jobs': 1, 'nthread': None, 'objective': 'binary:logistic', 'random_state': 42, 'reg_alpha': 0, 'reg_lambda': 1, 'scale_pos_weight': 1, 'seed': None, 'silent': True, 'subsample': 1}\n"
     ]
    }
   ],
   "source": [
    "print(model.get_params())"
   ]
  },
  {
   "cell_type": "markdown",
   "metadata": {},
   "source": [
    "#### 2) Accuracy, classification report"
   ]
  },
  {
   "cell_type": "code",
   "execution_count": 7,
   "metadata": {},
   "outputs": [
    {
     "name": "stdout",
     "output_type": "stream",
     "text": [
      "Accuracy: 0.70\n",
      "             precision    recall  f1-score   support\n",
      "\n",
      "          0       0.70      0.55      0.62      1518\n",
      "          1       0.71      0.82      0.76      1986\n",
      "\n",
      "avg / total       0.70      0.70      0.70      3504\n",
      "\n"
     ]
    },
    {
     "name": "stderr",
     "output_type": "stream",
     "text": [
      "/anaconda3/lib/python3.6/site-packages/sklearn/preprocessing/label.py:151: DeprecationWarning: The truth value of an empty array is ambiguous. Returning False, but in future this will result in an error. Use `array.size > 0` to check that an array is not empty.\n",
      "  if diff:\n",
      "/anaconda3/lib/python3.6/site-packages/sklearn/preprocessing/label.py:151: DeprecationWarning: The truth value of an empty array is ambiguous. Returning False, but in future this will result in an error. Use `array.size > 0` to check that an array is not empty.\n",
      "  if diff:\n"
     ]
    }
   ],
   "source": [
    "print('Accuracy: %.2f' %(accuracy_score(y_test, model.predict(X_test))))\n",
    "print(classification_report(y_test,model.predict(X_test)))"
   ]
  },
  {
   "cell_type": "markdown",
   "metadata": {},
   "source": [
    "#### 3) Importancia de las variables en el modelo:"
   ]
  },
  {
   "cell_type": "code",
   "execution_count": 8,
   "metadata": {},
   "outputs": [
    {
     "data": {
      "image/png": "[encoded data removed]",
      "text/plain": [
       "<Figure size 432x288 with 1 Axes>"
      ]
     },
     "metadata": {},
     "output_type": "display_data"
    }
   ],
   "source": [
    "plot_importance(model)\n",
    "plt.rcParams['figure.figsize'] = [15, 15]\n",
    "plt.show()"
   ]
  },
  {
   "cell_type": "markdown",
   "metadata": {},
   "source": [
    "**NOTA:** Estoy utilizando como medida de la importancia la opción *weight*: cantidad de veces que se usa una función para dividir los datos en todos los árboles."
   ]
  },
  {
   "cell_type": "markdown",
   "metadata": {},
   "source": [
    "#### 4) Feature selection\n",
    "\n",
    "Utilizo SelectFromModel de la librería sklearn:"
   ]
  },
  {
   "cell_type": "code",
   "execution_count": 10,
   "metadata": {},
   "outputs": [
    {
     "data": {
      "text/plain": [
       "[0.012209648,\n",
       " 0.045562834,\n",
       " 0.048838593,\n",
       " 0.05002978,\n",
       " 0.051220965,\n",
       " 0.061048243,\n",
       " 0.110780224,\n",
       " 0.12656343,\n",
       " 0.13787968,\n",
       " 0.17599761,\n",
       " 0.17986897]"
      ]
     },
     "execution_count": 10,
     "metadata": {},
     "output_type": "execute_result"
    }
   ],
   "source": [
    "thresholds = sorted(model.feature_importances_)\n",
    "thresholds"
   ]
  },
  {
   "cell_type": "code",
   "execution_count": 22,
   "metadata": {},
   "outputs": [
    {
     "data": {
      "text/plain": [
       "{'base_score': 0.5,\n",
       " 'booster': 'gbtree',\n",
       " 'colsample_bylevel': 1,\n",
       " 'colsample_bytree': 1,\n",
       " 'gamma': 0,\n",
       " 'learning_rate': 0.1,\n",
       " 'max_delta_step': 0,\n",
       " 'max_depth': 3,\n",
       " 'min_child_weight': 1,\n",
       " 'missing': nan,\n",
       " 'n_estimators': 500,\n",
       " 'n_jobs': 1,\n",
       " 'nthread': None,\n",
       " 'objective': 'binary:logistic',\n",
       " 'random_state': 42,\n",
       " 'reg_alpha': 0,\n",
       " 'reg_lambda': 1,\n",
       " 'scale_pos_weight': 1,\n",
       " 'seed': None,\n",
       " 'silent': True,\n",
       " 'subsample': 1}"
      ]
     },
     "execution_count": 22,
     "metadata": {},
     "output_type": "execute_result"
    }
   ],
   "source": [
    "model.get_params()"
   ]
  },
  {
   "cell_type": "code",
   "execution_count": 23,
   "metadata": {},
   "outputs": [
    {
     "name": "stderr",
     "output_type": "stream",
     "text": [
      "/anaconda3/lib/python3.6/site-packages/sklearn/preprocessing/label.py:151: DeprecationWarning: The truth value of an empty array is ambiguous. Returning False, but in future this will result in an error. Use `array.size > 0` to check that an array is not empty.\n",
      "  if diff:\n"
     ]
    },
    {
     "name": "stdout",
     "output_type": "stream",
     "text": [
      "Thresh=0.012, n=11, Accuracy: 70.41%\n",
      "             precision    recall  f1-score   support\n",
      "\n",
      "          0       0.70      0.55      0.62      1518\n",
      "          1       0.71      0.82      0.76      1986\n",
      "\n",
      "avg / total       0.70      0.70      0.70      3504\n",
      "\n"
     ]
    },
    {
     "name": "stderr",
     "output_type": "stream",
     "text": [
      "/anaconda3/lib/python3.6/site-packages/sklearn/preprocessing/label.py:151: DeprecationWarning: The truth value of an empty array is ambiguous. Returning False, but in future this will result in an error. Use `array.size > 0` to check that an array is not empty.\n",
      "  if diff:\n"
     ]
    },
    {
     "name": "stdout",
     "output_type": "stream",
     "text": [
      "Thresh=0.046, n=10, Accuracy: 70.03%\n",
      "             precision    recall  f1-score   support\n",
      "\n",
      "          0       0.70      0.54      0.61      1518\n",
      "          1       0.70      0.82      0.76      1986\n",
      "\n",
      "avg / total       0.70      0.70      0.69      3504\n",
      "\n"
     ]
    },
    {
     "name": "stderr",
     "output_type": "stream",
     "text": [
      "/anaconda3/lib/python3.6/site-packages/sklearn/preprocessing/label.py:151: DeprecationWarning: The truth value of an empty array is ambiguous. Returning False, but in future this will result in an error. Use `array.size > 0` to check that an array is not empty.\n",
      "  if diff:\n"
     ]
    },
    {
     "name": "stdout",
     "output_type": "stream",
     "text": [
      "Thresh=0.049, n=9, Accuracy: 70.15%\n",
      "             precision    recall  f1-score   support\n",
      "\n",
      "          0       0.70      0.54      0.61      1518\n",
      "          1       0.70      0.83      0.76      1986\n",
      "\n",
      "avg / total       0.70      0.70      0.69      3504\n",
      "\n"
     ]
    },
    {
     "name": "stderr",
     "output_type": "stream",
     "text": [
      "/anaconda3/lib/python3.6/site-packages/sklearn/preprocessing/label.py:151: DeprecationWarning: The truth value of an empty array is ambiguous. Returning False, but in future this will result in an error. Use `array.size > 0` to check that an array is not empty.\n",
      "  if diff:\n"
     ]
    },
    {
     "name": "stdout",
     "output_type": "stream",
     "text": [
      "Thresh=0.050, n=8, Accuracy: 69.49%\n",
      "             precision    recall  f1-score   support\n",
      "\n",
      "          0       0.70      0.52      0.60      1518\n",
      "          1       0.69      0.83      0.75      1986\n",
      "\n",
      "avg / total       0.70      0.69      0.69      3504\n",
      "\n"
     ]
    },
    {
     "name": "stderr",
     "output_type": "stream",
     "text": [
      "/anaconda3/lib/python3.6/site-packages/sklearn/preprocessing/label.py:151: DeprecationWarning: The truth value of an empty array is ambiguous. Returning False, but in future this will result in an error. Use `array.size > 0` to check that an array is not empty.\n",
      "  if diff:\n"
     ]
    },
    {
     "name": "stdout",
     "output_type": "stream",
     "text": [
      "Thresh=0.051, n=7, Accuracy: 69.24%\n",
      "             precision    recall  f1-score   support\n",
      "\n",
      "          0       0.69      0.52      0.60      1518\n",
      "          1       0.69      0.82      0.75      1986\n",
      "\n",
      "avg / total       0.69      0.69      0.68      3504\n",
      "\n"
     ]
    },
    {
     "name": "stderr",
     "output_type": "stream",
     "text": [
      "/anaconda3/lib/python3.6/site-packages/sklearn/preprocessing/label.py:151: DeprecationWarning: The truth value of an empty array is ambiguous. Returning False, but in future this will result in an error. Use `array.size > 0` to check that an array is not empty.\n",
      "  if diff:\n"
     ]
    },
    {
     "name": "stdout",
     "output_type": "stream",
     "text": [
      "Thresh=0.061, n=6, Accuracy: 68.98%\n",
      "             precision    recall  f1-score   support\n",
      "\n",
      "          0       0.69      0.52      0.59      1518\n",
      "          1       0.69      0.82      0.75      1986\n",
      "\n",
      "avg / total       0.69      0.69      0.68      3504\n",
      "\n"
     ]
    },
    {
     "name": "stderr",
     "output_type": "stream",
     "text": [
      "/anaconda3/lib/python3.6/site-packages/sklearn/preprocessing/label.py:151: DeprecationWarning: The truth value of an empty array is ambiguous. Returning False, but in future this will result in an error. Use `array.size > 0` to check that an array is not empty.\n",
      "  if diff:\n"
     ]
    },
    {
     "name": "stdout",
     "output_type": "stream",
     "text": [
      "Thresh=0.111, n=5, Accuracy: 66.47%\n",
      "             precision    recall  f1-score   support\n",
      "\n",
      "          0       0.66      0.46      0.54      1518\n",
      "          1       0.67      0.82      0.74      1986\n",
      "\n",
      "avg / total       0.66      0.66      0.65      3504\n",
      "\n"
     ]
    },
    {
     "name": "stderr",
     "output_type": "stream",
     "text": [
      "/anaconda3/lib/python3.6/site-packages/sklearn/preprocessing/label.py:151: DeprecationWarning: The truth value of an empty array is ambiguous. Returning False, but in future this will result in an error. Use `array.size > 0` to check that an array is not empty.\n",
      "  if diff:\n"
     ]
    },
    {
     "name": "stdout",
     "output_type": "stream",
     "text": [
      "Thresh=0.127, n=4, Accuracy: 67.21%\n",
      "             precision    recall  f1-score   support\n",
      "\n",
      "          0       0.68      0.47      0.55      1518\n",
      "          1       0.67      0.83      0.74      1986\n",
      "\n",
      "avg / total       0.67      0.67      0.66      3504\n",
      "\n"
     ]
    },
    {
     "name": "stderr",
     "output_type": "stream",
     "text": [
      "/anaconda3/lib/python3.6/site-packages/sklearn/preprocessing/label.py:151: DeprecationWarning: The truth value of an empty array is ambiguous. Returning False, but in future this will result in an error. Use `array.size > 0` to check that an array is not empty.\n",
      "  if diff:\n"
     ]
    },
    {
     "name": "stdout",
     "output_type": "stream",
     "text": [
      "Thresh=0.138, n=3, Accuracy: 66.55%\n",
      "             precision    recall  f1-score   support\n",
      "\n",
      "          0       0.67      0.45      0.54      1518\n",
      "          1       0.66      0.83      0.74      1986\n",
      "\n",
      "avg / total       0.67      0.67      0.65      3504\n",
      "\n"
     ]
    },
    {
     "name": "stderr",
     "output_type": "stream",
     "text": [
      "/anaconda3/lib/python3.6/site-packages/sklearn/preprocessing/label.py:151: DeprecationWarning: The truth value of an empty array is ambiguous. Returning False, but in future this will result in an error. Use `array.size > 0` to check that an array is not empty.\n",
      "  if diff:\n"
     ]
    },
    {
     "name": "stdout",
     "output_type": "stream",
     "text": [
      "Thresh=0.176, n=2, Accuracy: 66.47%\n",
      "             precision    recall  f1-score   support\n",
      "\n",
      "          0       0.68      0.43      0.53      1518\n",
      "          1       0.66      0.84      0.74      1986\n",
      "\n",
      "avg / total       0.67      0.66      0.65      3504\n",
      "\n",
      "Thresh=0.180, n=1, Accuracy: 67.32%\n",
      "             precision    recall  f1-score   support\n",
      "\n",
      "          0       0.69      0.44      0.54      1518\n",
      "          1       0.67      0.85      0.75      1986\n",
      "\n",
      "avg / total       0.68      0.67      0.66      3504\n",
      "\n"
     ]
    },
    {
     "name": "stderr",
     "output_type": "stream",
     "text": [
      "/anaconda3/lib/python3.6/site-packages/sklearn/preprocessing/label.py:151: DeprecationWarning: The truth value of an empty array is ambiguous. Returning False, but in future this will result in an error. Use `array.size > 0` to check that an array is not empty.\n",
      "  if diff:\n"
     ]
    }
   ],
   "source": [
    "for t in thresholds:\n",
    "    selection = SelectFromModel(model, threshold=t, prefit=True)\n",
    "    select_X_train = selection.transform(X_train)\n",
    "    \n",
    "    # Entreno con el nuevo set de training:\n",
    "    selection_model = XGBClassifier(n_estimators=500,random_state=42)\n",
    "    selection_model.fit(select_X_train, y_train)\n",
    "    # Resultados:\n",
    "    select_X_test = selection.transform(X_test)\n",
    "    y_pred = selection_model.predict(select_X_test)\n",
    "    accuracy = accuracy_score(y_test, y_pred)\n",
    "    print(\"Thresh=%.3f, n=%d, Accuracy: %.2f%%\" % (t, select_X_train.shape[1], accuracy*100.0))\n",
    "    print(classification_report(y_test, y_pred))"
   ]
  },
  {
   "cell_type": "markdown",
   "metadata": {},
   "source": [
    "He comprobado que mi accuracy empeora si disminuyo el número de features a partir de n=8, a pesar de tener una importancia baja en el modelo las variables a partir de n=5. Con las métricas de Precision, Recall y F1-score ocurre lo mismo.\n",
    "\n",
    "En el libro *Hands-On Machine Learning with Scikit-Learn & TensorFlow*, página 25, nos indican:\n",
    "\n",
    "*\"Garbage in, garbage out. Your system will only be capable of learning if the training data contains enough relevant features and not too many irrelevant ones\"*\n",
    "\n",
    "So...elimino de mi dataset de entrenamiento RESERVA_D-1 y MES, y me quedo con 9 variables.\n",
    "\n",
    "Preparo todo para guardarlo como en los casos anteriores."
   ]
  },
  {
   "cell_type": "code",
   "execution_count": 26,
   "metadata": {},
   "outputs": [],
   "source": [
    "X_train_def=X_train.drop(['RESERVA_D-1','MES'],axis=1).copy()\n",
    "y_train_def=y_train.copy()\n",
    "X_test_def=X_test.drop(['RESERVA_D-1','MES'],axis=1).copy()\n",
    "y_test_def=y_test.copy()"
   ]
  },
  {
   "cell_type": "code",
   "execution_count": 29,
   "metadata": {},
   "outputs": [
    {
     "data": {
      "text/html": [
       "<div>\n",
       "<style scoped>\n",
       "    .dataframe tbody tr th:only-of-type {\n",
       "        vertical-align: middle;\n",
       "    }\n",
       "\n",
       "    .dataframe tbody tr th {\n",
       "        vertical-align: top;\n",
       "    }\n",
       "\n",
       "    .dataframe thead th {\n",
       "        text-align: right;\n",
       "    }\n",
       "</style>\n",
       "<table border=\"1\" class=\"dataframe\">\n",
       "  <thead>\n",
       "    <tr style=\"text-align: right;\">\n",
       "      <th></th>\n",
       "      <th>PERIODO</th>\n",
       "      <th>WD</th>\n",
       "      <th>PRECIO_MD_ESP</th>\n",
       "      <th>P48_EOLICA</th>\n",
       "      <th>P48_DEMANDA</th>\n",
       "      <th>POT_DISP_CARBON</th>\n",
       "      <th>CARBON_D-1</th>\n",
       "      <th>EMB_ANUALES</th>\n",
       "      <th>EMB_HIPERANUALES</th>\n",
       "    </tr>\n",
       "  </thead>\n",
       "  <tbody>\n",
       "    <tr>\n",
       "      <th>11884</th>\n",
       "      <td>6</td>\n",
       "      <td>2</td>\n",
       "      <td>43.44</td>\n",
       "      <td>8329.3</td>\n",
       "      <td>23978.8</td>\n",
       "      <td>8826.1</td>\n",
       "      <td>205.73</td>\n",
       "      <td>4613</td>\n",
       "      <td>3588</td>\n",
       "    </tr>\n",
       "    <tr>\n",
       "      <th>23434</th>\n",
       "      <td>14</td>\n",
       "      <td>7</td>\n",
       "      <td>52.04</td>\n",
       "      <td>3307.4</td>\n",
       "      <td>25200.9</td>\n",
       "      <td>9153.6</td>\n",
       "      <td>299.12</td>\n",
       "      <td>6923</td>\n",
       "      <td>4954</td>\n",
       "    </tr>\n",
       "    <tr>\n",
       "      <th>19929</th>\n",
       "      <td>12</td>\n",
       "      <td>1</td>\n",
       "      <td>69.48</td>\n",
       "      <td>1206.4</td>\n",
       "      <td>37832.1</td>\n",
       "      <td>8826.9</td>\n",
       "      <td>284.25</td>\n",
       "      <td>3213</td>\n",
       "      <td>2185</td>\n",
       "    </tr>\n",
       "  </tbody>\n",
       "</table>\n",
       "</div>"
      ],
      "text/plain": [
       "       PERIODO  WD  PRECIO_MD_ESP  P48_EOLICA  P48_DEMANDA  POT_DISP_CARBON  \\\n",
       "11884        6   2          43.44      8329.3      23978.8           8826.1   \n",
       "23434       14   7          52.04      3307.4      25200.9           9153.6   \n",
       "19929       12   1          69.48      1206.4      37832.1           8826.9   \n",
       "\n",
       "       CARBON_D-1  EMB_ANUALES  EMB_HIPERANUALES  \n",
       "11884      205.73         4613              3588  \n",
       "23434      299.12         6923              4954  \n",
       "19929      284.25         3213              2185  "
      ]
     },
     "execution_count": 29,
     "metadata": {},
     "output_type": "execute_result"
    }
   ],
   "source": [
    "X_train_def.head(3)"
   ]
  },
  {
   "cell_type": "code",
   "execution_count": 30,
   "metadata": {},
   "outputs": [
    {
     "data": {
      "text/html": [
       "<div>\n",
       "<style scoped>\n",
       "    .dataframe tbody tr th:only-of-type {\n",
       "        vertical-align: middle;\n",
       "    }\n",
       "\n",
       "    .dataframe tbody tr th {\n",
       "        vertical-align: top;\n",
       "    }\n",
       "\n",
       "    .dataframe thead th {\n",
       "        text-align: right;\n",
       "    }\n",
       "</style>\n",
       "<table border=\"1\" class=\"dataframe\">\n",
       "  <thead>\n",
       "    <tr style=\"text-align: right;\">\n",
       "      <th></th>\n",
       "      <th>PERIODO</th>\n",
       "      <th>WD</th>\n",
       "      <th>PRECIO_MD_ESP</th>\n",
       "      <th>P48_EOLICA</th>\n",
       "      <th>P48_DEMANDA</th>\n",
       "      <th>POT_DISP_CARBON</th>\n",
       "      <th>CARBON_D-1</th>\n",
       "      <th>EMB_ANUALES</th>\n",
       "      <th>EMB_HIPERANUALES</th>\n",
       "    </tr>\n",
       "  </thead>\n",
       "  <tbody>\n",
       "    <tr>\n",
       "      <th>count</th>\n",
       "      <td>14014.000000</td>\n",
       "      <td>14014.000000</td>\n",
       "      <td>14014.000000</td>\n",
       "      <td>14014.000000</td>\n",
       "      <td>14014.000000</td>\n",
       "      <td>14014.000000</td>\n",
       "      <td>14014.000000</td>\n",
       "      <td>14014.000000</td>\n",
       "      <td>14014.000000</td>\n",
       "    </tr>\n",
       "    <tr>\n",
       "      <th>mean</th>\n",
       "      <td>12.478878</td>\n",
       "      <td>4.093335</td>\n",
       "      <td>53.979276</td>\n",
       "      <td>5340.711774</td>\n",
       "      <td>28876.317169</td>\n",
       "      <td>8532.410532</td>\n",
       "      <td>320.118353</td>\n",
       "      <td>4286.529685</td>\n",
       "      <td>3441.738975</td>\n",
       "    </tr>\n",
       "    <tr>\n",
       "      <th>std</th>\n",
       "      <td>6.921449</td>\n",
       "      <td>2.018750</td>\n",
       "      <td>12.591399</td>\n",
       "      <td>3136.525095</td>\n",
       "      <td>4666.643239</td>\n",
       "      <td>716.687666</td>\n",
       "      <td>46.930854</td>\n",
       "      <td>1447.392807</td>\n",
       "      <td>906.712491</td>\n",
       "    </tr>\n",
       "    <tr>\n",
       "      <th>min</th>\n",
       "      <td>1.000000</td>\n",
       "      <td>1.000000</td>\n",
       "      <td>2.060000</td>\n",
       "      <td>240.800000</td>\n",
       "      <td>18277.400000</td>\n",
       "      <td>5693.700000</td>\n",
       "      <td>151.940000</td>\n",
       "      <td>2222.000000</td>\n",
       "      <td>2138.000000</td>\n",
       "    </tr>\n",
       "    <tr>\n",
       "      <th>25%</th>\n",
       "      <td>6.000000</td>\n",
       "      <td>2.000000</td>\n",
       "      <td>46.690000</td>\n",
       "      <td>2919.100000</td>\n",
       "      <td>24899.225000</td>\n",
       "      <td>8089.200000</td>\n",
       "      <td>293.002500</td>\n",
       "      <td>3213.000000</td>\n",
       "      <td>2712.000000</td>\n",
       "    </tr>\n",
       "    <tr>\n",
       "      <th>50%</th>\n",
       "      <td>12.000000</td>\n",
       "      <td>4.000000</td>\n",
       "      <td>53.380000</td>\n",
       "      <td>4687.650000</td>\n",
       "      <td>29068.100000</td>\n",
       "      <td>8618.500000</td>\n",
       "      <td>330.665000</td>\n",
       "      <td>4017.000000</td>\n",
       "      <td>3421.000000</td>\n",
       "    </tr>\n",
       "    <tr>\n",
       "      <th>75%</th>\n",
       "      <td>18.000000</td>\n",
       "      <td>6.000000</td>\n",
       "      <td>62.300000</td>\n",
       "      <td>7085.750000</td>\n",
       "      <td>32519.475000</td>\n",
       "      <td>9128.800000</td>\n",
       "      <td>352.460000</td>\n",
       "      <td>5172.000000</td>\n",
       "      <td>4266.000000</td>\n",
       "    </tr>\n",
       "    <tr>\n",
       "      <th>max</th>\n",
       "      <td>24.000000</td>\n",
       "      <td>7.000000</td>\n",
       "      <td>101.990000</td>\n",
       "      <td>16952.600000</td>\n",
       "      <td>41297.900000</td>\n",
       "      <td>9534.700000</td>\n",
       "      <td>517.780000</td>\n",
       "      <td>7092.000000</td>\n",
       "      <td>5004.000000</td>\n",
       "    </tr>\n",
       "  </tbody>\n",
       "</table>\n",
       "</div>"
      ],
      "text/plain": [
       "            PERIODO            WD  PRECIO_MD_ESP    P48_EOLICA   P48_DEMANDA  \\\n",
       "count  14014.000000  14014.000000   14014.000000  14014.000000  14014.000000   \n",
       "mean      12.478878      4.093335      53.979276   5340.711774  28876.317169   \n",
       "std        6.921449      2.018750      12.591399   3136.525095   4666.643239   \n",
       "min        1.000000      1.000000       2.060000    240.800000  18277.400000   \n",
       "25%        6.000000      2.000000      46.690000   2919.100000  24899.225000   \n",
       "50%       12.000000      4.000000      53.380000   4687.650000  29068.100000   \n",
       "75%       18.000000      6.000000      62.300000   7085.750000  32519.475000   \n",
       "max       24.000000      7.000000     101.990000  16952.600000  41297.900000   \n",
       "\n",
       "       POT_DISP_CARBON    CARBON_D-1   EMB_ANUALES  EMB_HIPERANUALES  \n",
       "count     14014.000000  14014.000000  14014.000000      14014.000000  \n",
       "mean       8532.410532    320.118353   4286.529685       3441.738975  \n",
       "std         716.687666     46.930854   1447.392807        906.712491  \n",
       "min        5693.700000    151.940000   2222.000000       2138.000000  \n",
       "25%        8089.200000    293.002500   3213.000000       2712.000000  \n",
       "50%        8618.500000    330.665000   4017.000000       3421.000000  \n",
       "75%        9128.800000    352.460000   5172.000000       4266.000000  \n",
       "max        9534.700000    517.780000   7092.000000       5004.000000  "
      ]
     },
     "execution_count": 30,
     "metadata": {},
     "output_type": "execute_result"
    }
   ],
   "source": [
    "X_train_def.describe()"
   ]
  },
  {
   "cell_type": "code",
   "execution_count": 31,
   "metadata": {},
   "outputs": [
    {
     "data": {
      "text/html": [
       "<div>\n",
       "<style scoped>\n",
       "    .dataframe tbody tr th:only-of-type {\n",
       "        vertical-align: middle;\n",
       "    }\n",
       "\n",
       "    .dataframe tbody tr th {\n",
       "        vertical-align: top;\n",
       "    }\n",
       "\n",
       "    .dataframe thead th {\n",
       "        text-align: right;\n",
       "    }\n",
       "</style>\n",
       "<table border=\"1\" class=\"dataframe\">\n",
       "  <thead>\n",
       "    <tr style=\"text-align: right;\">\n",
       "      <th></th>\n",
       "      <th>PERIODO</th>\n",
       "      <th>WD</th>\n",
       "      <th>PRECIO_MD_ESP</th>\n",
       "      <th>P48_EOLICA</th>\n",
       "      <th>P48_DEMANDA</th>\n",
       "      <th>POT_DISP_CARBON</th>\n",
       "      <th>CARBON_D-1</th>\n",
       "      <th>EMB_ANUALES</th>\n",
       "      <th>EMB_HIPERANUALES</th>\n",
       "    </tr>\n",
       "  </thead>\n",
       "  <tbody>\n",
       "    <tr>\n",
       "      <th>count</th>\n",
       "      <td>3504.000000</td>\n",
       "      <td>3504.000000</td>\n",
       "      <td>3504.000000</td>\n",
       "      <td>3504.000000</td>\n",
       "      <td>3504.000000</td>\n",
       "      <td>3504.000000</td>\n",
       "      <td>3504.000000</td>\n",
       "      <td>3504.000000</td>\n",
       "      <td>3504.000000</td>\n",
       "    </tr>\n",
       "    <tr>\n",
       "      <th>mean</th>\n",
       "      <td>12.589897</td>\n",
       "      <td>4.083904</td>\n",
       "      <td>53.836416</td>\n",
       "      <td>5437.768579</td>\n",
       "      <td>28826.559618</td>\n",
       "      <td>8512.808818</td>\n",
       "      <td>319.853231</td>\n",
       "      <td>4274.344178</td>\n",
       "      <td>3434.720890</td>\n",
       "    </tr>\n",
       "    <tr>\n",
       "      <th>std</th>\n",
       "      <td>6.924652</td>\n",
       "      <td>2.055422</td>\n",
       "      <td>12.618407</td>\n",
       "      <td>3161.253637</td>\n",
       "      <td>4645.140561</td>\n",
       "      <td>741.276755</td>\n",
       "      <td>47.396328</td>\n",
       "      <td>1462.743950</td>\n",
       "      <td>910.379994</td>\n",
       "    </tr>\n",
       "    <tr>\n",
       "      <th>min</th>\n",
       "      <td>1.000000</td>\n",
       "      <td>1.000000</td>\n",
       "      <td>2.300000</td>\n",
       "      <td>454.400000</td>\n",
       "      <td>18501.100000</td>\n",
       "      <td>5693.700000</td>\n",
       "      <td>154.500000</td>\n",
       "      <td>2222.000000</td>\n",
       "      <td>2138.000000</td>\n",
       "    </tr>\n",
       "    <tr>\n",
       "      <th>25%</th>\n",
       "      <td>7.000000</td>\n",
       "      <td>2.000000</td>\n",
       "      <td>46.460000</td>\n",
       "      <td>3021.250000</td>\n",
       "      <td>24849.725000</td>\n",
       "      <td>8064.900000</td>\n",
       "      <td>290.617500</td>\n",
       "      <td>3148.000000</td>\n",
       "      <td>2560.000000</td>\n",
       "    </tr>\n",
       "    <tr>\n",
       "      <th>50%</th>\n",
       "      <td>13.000000</td>\n",
       "      <td>4.000000</td>\n",
       "      <td>53.195000</td>\n",
       "      <td>4711.250000</td>\n",
       "      <td>29016.450000</td>\n",
       "      <td>8617.800000</td>\n",
       "      <td>330.170000</td>\n",
       "      <td>4017.000000</td>\n",
       "      <td>3363.000000</td>\n",
       "    </tr>\n",
       "    <tr>\n",
       "      <th>75%</th>\n",
       "      <td>19.000000</td>\n",
       "      <td>6.000000</td>\n",
       "      <td>62.102500</td>\n",
       "      <td>7333.700000</td>\n",
       "      <td>32380.525000</td>\n",
       "      <td>9119.900000</td>\n",
       "      <td>352.960000</td>\n",
       "      <td>5172.000000</td>\n",
       "      <td>4143.000000</td>\n",
       "    </tr>\n",
       "    <tr>\n",
       "      <th>max</th>\n",
       "      <td>24.000000</td>\n",
       "      <td>7.000000</td>\n",
       "      <td>100.670000</td>\n",
       "      <td>16471.600000</td>\n",
       "      <td>40921.600000</td>\n",
       "      <td>9534.700000</td>\n",
       "      <td>504.980000</td>\n",
       "      <td>7092.000000</td>\n",
       "      <td>5004.000000</td>\n",
       "    </tr>\n",
       "  </tbody>\n",
       "</table>\n",
       "</div>"
      ],
      "text/plain": [
       "           PERIODO           WD  PRECIO_MD_ESP    P48_EOLICA   P48_DEMANDA  \\\n",
       "count  3504.000000  3504.000000    3504.000000   3504.000000   3504.000000   \n",
       "mean     12.589897     4.083904      53.836416   5437.768579  28826.559618   \n",
       "std       6.924652     2.055422      12.618407   3161.253637   4645.140561   \n",
       "min       1.000000     1.000000       2.300000    454.400000  18501.100000   \n",
       "25%       7.000000     2.000000      46.460000   3021.250000  24849.725000   \n",
       "50%      13.000000     4.000000      53.195000   4711.250000  29016.450000   \n",
       "75%      19.000000     6.000000      62.102500   7333.700000  32380.525000   \n",
       "max      24.000000     7.000000     100.670000  16471.600000  40921.600000   \n",
       "\n",
       "       POT_DISP_CARBON   CARBON_D-1  EMB_ANUALES  EMB_HIPERANUALES  \n",
       "count      3504.000000  3504.000000  3504.000000       3504.000000  \n",
       "mean       8512.808818   319.853231  4274.344178       3434.720890  \n",
       "std         741.276755    47.396328  1462.743950        910.379994  \n",
       "min        5693.700000   154.500000  2222.000000       2138.000000  \n",
       "25%        8064.900000   290.617500  3148.000000       2560.000000  \n",
       "50%        8617.800000   330.170000  4017.000000       3363.000000  \n",
       "75%        9119.900000   352.960000  5172.000000       4143.000000  \n",
       "max        9534.700000   504.980000  7092.000000       5004.000000  "
      ]
     },
     "execution_count": 31,
     "metadata": {},
     "output_type": "execute_result"
    }
   ],
   "source": [
    "X_test_def.describe()"
   ]
  },
  {
   "cell_type": "code",
   "execution_count": 32,
   "metadata": {},
   "outputs": [],
   "source": [
    "clfxb_4=XGBClassifier(n_estimators=500,random_state=42)"
   ]
  },
  {
   "cell_type": "code",
   "execution_count": 33,
   "metadata": {},
   "outputs": [
    {
     "data": {
      "text/plain": [
       "XGBClassifier(base_score=0.5, booster='gbtree', colsample_bylevel=1,\n",
       "       colsample_bytree=1, gamma=0, learning_rate=0.1, max_delta_step=0,\n",
       "       max_depth=3, min_child_weight=1, missing=None, n_estimators=500,\n",
       "       n_jobs=1, nthread=None, objective='binary:logistic',\n",
       "       random_state=42, reg_alpha=0, reg_lambda=1, scale_pos_weight=1,\n",
       "       seed=None, silent=True, subsample=1)"
      ]
     },
     "execution_count": 33,
     "metadata": {},
     "output_type": "execute_result"
    }
   ],
   "source": [
    "clfxb_4.fit(X_train_def,y_train_def)"
   ]
  },
  {
   "cell_type": "code",
   "execution_count": 38,
   "metadata": {},
   "outputs": [
    {
     "name": "stdout",
     "output_type": "stream",
     "text": [
      "Accuracy: 0.70%\n",
      "             precision    recall  f1-score   support\n",
      "\n",
      "          0       0.70      0.54      0.61      1518\n",
      "          1       0.70      0.83      0.76      1986\n",
      "\n",
      "avg / total       0.70      0.70      0.69      3504\n",
      "\n"
     ]
    },
    {
     "name": "stderr",
     "output_type": "stream",
     "text": [
      "/anaconda3/lib/python3.6/site-packages/sklearn/preprocessing/label.py:151: DeprecationWarning: The truth value of an empty array is ambiguous. Returning False, but in future this will result in an error. Use `array.size > 0` to check that an array is not empty.\n",
      "  if diff:\n",
      "/anaconda3/lib/python3.6/site-packages/sklearn/preprocessing/label.py:151: DeprecationWarning: The truth value of an empty array is ambiguous. Returning False, but in future this will result in an error. Use `array.size > 0` to check that an array is not empty.\n",
      "  if diff:\n"
     ]
    }
   ],
   "source": [
    "print(\"Accuracy: %.2f%%\" % (accuracy_score(y_test_def, clfxb_4.predict(X_test_def))))\n",
    "print(classification_report(y_test_def, clfxb_4.predict(X_test_def)))"
   ]
  },
  {
   "cell_type": "code",
   "execution_count": 24,
   "metadata": {},
   "outputs": [],
   "source": [
    "path='/Users/blancabengoa/Desktop/KSchool/TFM/Modelo4/'   #Aqui es donde debo poner la ruta especifica"
   ]
  },
  {
   "cell_type": "code",
   "execution_count": 39,
   "metadata": {},
   "outputs": [],
   "source": [
    "pickle.dump(clfxb_4,open(path +\"clfxb_4.pkl\",\"wb\"))"
   ]
  },
  {
   "cell_type": "code",
   "execution_count": 40,
   "metadata": {},
   "outputs": [],
   "source": [
    "#set de datos\n",
    "pickle.dump(X_train_def,open(path + \"X_train.pkl\",\"wb\"))\n",
    "pickle.dump(y_train_def,open(path + \"y_train.pkl\",\"wb\"))\n",
    "pickle.dump(X_test_def,open(path + \"X_test.pkl\",\"wb\"))\n",
    "pickle.dump(y_test_def,open(path + \"y_test.pkl\",\"wb\"))"
   ]
  }
 ],
 "metadata": {
  "kernelspec": {
   "display_name": "Python 3",
   "language": "python",
   "name": "python3"
  },
  "language_info": {
   "codemirror_mode": {
    "name": "ipython",
    "version": 3
   },
   "file_extension": ".py",
   "mimetype": "text/x-python",
   "name": "python",
   "nbconvert_exporter": "python",
   "pygments_lexer": "ipython3",
   "version": "3.6.8"
  }
 },
 "nbformat": 4,
 "nbformat_minor": 2
}
