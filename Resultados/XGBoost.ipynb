{
 "cells": [
  {
   "cell_type": "markdown",
   "metadata": {},
   "source": [
    "# MODELO FINAL\n",
    "\n",
    "El modelo escogido para clasificar si el precio del mercado intradiario 1 será inferior (RESERVA = 1) o superior (RESERVA = 0) al precio del mercado diario, tras estudiar varias opciones (*Modelo_Clasificador_1.ipynb, Modelo_Clasificador_2.ipynb, Modelo_Clasificador_3.ipynb, Modelo_XGBoos_FSelect.ipynb* dentro de la carpeta *Modelo*), es:\n",
    "\n",
    "* Modelo XGBoost, n_estimators=500.\n",
    "* Features:\n",
    "\n",
    "    * **PERIODO**: variable categórica que representa la hora del día expresado como la finalización de la hora de estudio. \n",
    "\n",
    "    * **WD**: variable categórica que toma valores del 1 al 7 para describir el día de la semana. Los festivos nacionales se han considerado tipo 7 (domingo).\n",
    "\n",
    "    * **PRECIO_MD_ESP**: variable cuantitativa del precio de casación en el mercado diario para un PERIODO, FECHA.\n",
    "\n",
    "    * **P48_EOLICA**: Variable cuantitativa de la producción eólica horaria. \n",
    "\n",
    "    * **P48_DEMANDA**: Variable cuantitativa de la demanda horaria.\n",
    "\n",
    "    * **POT_DISP_CARBON**: Variable cuantitativa de la potencia de generación disponible de carbón.\n",
    "\n",
    "    * **CARBON_D-1**: Variable cuantitativa creada en el notebook *Exploracion_datos.ipynb* resultado de dividir la producción de carbón horaria que hubo el día anterior entre el número de centrales de carbón que estaban arrancadas.\n",
    "\n",
    "    * **EMB_ANUALES y EMB_HIPERANUALES**: Variable cuantitativa del total peninsular de la cantidad de energía eléctrica que se produciría en su propia central y en todas las centrales situadas aguas abajo, con el vaciado completo de su reserva útil de agua en dicho momento, en el supuesto de que este vaciado se realice sin aportaciones naturales. Los primeros son aquellos cuyo ciclo de llenado y vaciado dura un año mientras que los embalses de régimen hiperanual son aquellos que permiten compensar las variaciones de hidraulicidad en ciclos de más de un año de duración.\n",
    "    \n",
    "* Tamaño dataset: 2 años hidráulicos - desde 01/10/2016 - 30/09/2018\n",
    "\n",
    "En este notebook se analiza el resultado obtenido y la salida que ofrece de cara a utilizarlo en producción. "
   ]
  },
  {
   "cell_type": "markdown",
   "metadata": {},
   "source": [
    "Importamos librerías necesarias:"
   ]
  },
  {
   "cell_type": "code",
   "execution_count": 1,
   "metadata": {},
   "outputs": [],
   "source": [
    "import pandas as pd\n",
    "import numpy as np\n",
    "import datetime as dt\n",
    "import pickle\n",
    "\n",
    "import matplotlib.pyplot as plt\n",
    "from matplotlib import colors\n",
    "import seaborn as sns\n",
    "import altair as alt\n",
    "\n",
    "%matplotlib inline\n",
    "plt.style.use('ggplot')\n",
    "\n",
    "#Librerías para modelos\n",
    "\n",
    "from xgboost import XGBClassifier\n",
    "from xgboost import plot_importance\n",
    "from xgboost import plot_tree\n",
    "\n",
    "from sklearn.metrics import accuracy_score\n",
    "from sklearn.model_selection import cross_val_score\n",
    "\n",
    "from sklearn.feature_selection import SelectKBest\n",
    "from sklearn.feature_selection import SelectFromModel\n",
    "from sklearn.feature_selection import RFE\n",
    "\n",
    "from sklearn.metrics import classification_report, confusion_matrix, precision_score\n",
    "\n",
    "#Para representar el arbol\n",
    "\n",
    "import pydotplus\n",
    "from IPython.display import Image\n",
    "from ipywidgets import interact\n",
    "from sklearn import tree\n",
    "import graphviz     #conda install python-graphviz"
   ]
  },
  {
   "cell_type": "markdown",
   "metadata": {},
   "source": [
    "El modelo escogido es el Modelo_4, guardado en la ruta:"
   ]
  },
  {
   "cell_type": "code",
   "execution_count": 2,
   "metadata": {},
   "outputs": [],
   "source": [
    "path='/Users/blancabengoa/Desktop/KSchool/TFM/Modelo4/'"
   ]
  },
  {
   "cell_type": "markdown",
   "metadata": {},
   "source": [
    "*Nota: El resultado de este modelo y el set de entrenamiento y test se han subido a Github en la carpeta **Resultados/data&model/**. Para utilizar este notebook, descargar estos ficheros en alguna ruta local del ordenador y modificar la variable path*"
   ]
  },
  {
   "cell_type": "markdown",
   "metadata": {},
   "source": [
    "Extraigo la división utilizada de train-test y nos traemos el dataset completo:"
   ]
  },
  {
   "cell_type": "code",
   "execution_count": 3,
   "metadata": {},
   "outputs": [],
   "source": [
    "X_train = pickle.load(open(path + \"X_train.pkl\",\"rb\"))\n",
    "X_test = pickle.load(open(path + \"X_test.pkl\",\"rb\"))\n",
    "y_train = pickle.load(open(path + \"y_train.pkl\",\"rb\"))\n",
    "y_test = pickle.load(open(path + \"y_test.pkl\",\"rb\"))\n",
    "model=pickle.load(open(path + \"clfxb_4.pkl\",\"rb\"))"
   ]
  },
  {
   "cell_type": "code",
   "execution_count": 4,
   "metadata": {},
   "outputs": [
    {
     "data": {
      "text/plain": [
       "['PERIODO',\n",
       " 'WD',\n",
       " 'PRECIO_MD_ESP',\n",
       " 'P48_EOLICA',\n",
       " 'P48_DEMANDA',\n",
       " 'POT_DISP_CARBON',\n",
       " 'CARBON_D-1',\n",
       " 'EMB_ANUALES',\n",
       " 'EMB_HIPERANUALES']"
      ]
     },
     "execution_count": 4,
     "metadata": {},
     "output_type": "execute_result"
    }
   ],
   "source": [
    "attributes_column=X_train.columns\n",
    "list(attributes_column)"
   ]
  },
  {
   "cell_type": "markdown",
   "metadata": {},
   "source": [
    "Extraigo también el dataset completo, con la fecha."
   ]
  },
  {
   "cell_type": "code",
   "execution_count": 5,
   "metadata": {},
   "outputs": [],
   "source": [
    "df=pd.read_csv('../data_processed/data_processed_definitive.csv',sep=';',index_col=False,parse_dates=['FECHA'])\n",
    "df_new=df[df['FECHA']>'2016-09-30'].copy()\n",
    "df_new=df_new.drop(['ACOPLADO_FR','RESERVA_D-1','MES'],axis=1).copy()\n",
    "\n",
    "X=df_new[attributes_column]\n",
    "y=df_new['RESERVA']"
   ]
  },
  {
   "cell_type": "markdown",
   "metadata": {},
   "source": [
    "## RESULTADO: \n",
    "\n",
    "### Feature importances"
   ]
  },
  {
   "cell_type": "code",
   "execution_count": 6,
   "metadata": {
    "scrolled": false
   },
   "outputs": [
    {
     "data": {
      "image/png": "[encoded data removed]",
      "text/plain": [
       "<Figure size 432x288 with 1 Axes>"
      ]
     },
     "metadata": {},
     "output_type": "display_data"
    }
   ],
   "source": [
    "plot_importance(model,importance_type='weight')\n",
    "plt.rcParams['figure.figsize'] = [10, 10]\n",
    "plt.show()"
   ]
  },
  {
   "cell_type": "markdown",
   "metadata": {},
   "source": [
    "La variable más utilizada para dividir los árboles es PRECIO_MD_ESP, casi empatada con POT_DISP_CARBON."
   ]
  },
  {
   "cell_type": "markdown",
   "metadata": {},
   "source": [
    "A pesar de que la importancia de las variables, en cuanto a su utilidad en la división de los árboles, disminuye drásticamente para n>5, en el notebook *Modelo_XGBoost_FSelect.ipynb* dentro de la carpeta *Modelo*, se analizó que el accuracy del modelo decrecía con el número de variables a considerar con n<9. "
   ]
  },
  {
   "cell_type": "markdown",
   "metadata": {},
   "source": [
    "### Árboles que componen el modelo:\n",
    "\n",
    "Para ayudar a la interpretación de las variables.\n",
    "\n",
    "*Nota: El notebook debe abrirse en jupyter notebook*"
   ]
  },
  {
   "cell_type": "code",
   "execution_count": 36,
   "metadata": {},
   "outputs": [
    {
     "data": {
      "application/vnd.jupyter.widget-view+json": {
       "model_id": "dbb8a85cc9774e84b27caa462689d401",
       "version_major": 2,
       "version_minor": 0
      },
      "text/plain": [
       "interactive(children=(Dropdown(description='trees', options=(0, 1, 2, 3, 4, 5, 6, 7, 8, 9, 10, 11, 12, 13, 14,…"
      ]
     },
     "metadata": {},
     "output_type": "display_data"
    }
   ],
   "source": [
    "@interact(trees=np.arange(500))\n",
    "def show(trees):\n",
    "    plot_tree(model,num_trees=trees)\n",
    "    plt.rcParams['figure.figsize'] = [50, 50]\n",
    "    plt.show()"
   ]
  },
  {
   "cell_type": "markdown",
   "metadata": {},
   "source": [
    "Ejemplo tree = 1:\n",
    "\n",
    "Una de las divisiones que considera es si el día de la semana es <7. Recordando el notebook *Exploracion_datos.ipynb*, WD=7 mostraba un comportamiento distinto (y más sesgado a que RESERVA=1) que el resto de posibles valores de RESERVA.\n",
    "\n",
    "Para convertir el valor de leaf a probabilidad de RESERVA = 1, basta con hacer la siguiente operación:\n",
    "\n",
    "(Ejemplo, POT_DISP_CARBON<8819 -> WD >=7 -> PRECIO_MD_ESP < 59.18)"
   ]
  },
  {
   "cell_type": "code",
   "execution_count": 7,
   "metadata": {},
   "outputs": [
    {
     "name": "stdout",
     "output_type": "stream",
     "text": [
      "Probabilidad: 51.80%\n"
     ]
    }
   ],
   "source": [
    "print(\"Probabilidad: %.2f\" %((1/(1+np.exp(-1*0.0718879)))*100) + \"%\")"
   ]
  },
  {
   "cell_type": "markdown",
   "metadata": {},
   "source": [
    "### Métricas obtenidas"
   ]
  },
  {
   "cell_type": "code",
   "execution_count": 8,
   "metadata": {
    "scrolled": false
   },
   "outputs": [
    {
     "name": "stdout",
     "output_type": "stream",
     "text": [
      "             precision    recall  f1-score   support\n",
      "\n",
      "          0       0.70      0.54      0.61      1518\n",
      "          1       0.70      0.83      0.76      1986\n",
      "\n",
      "avg / total       0.70      0.70      0.69      3504\n",
      "\n",
      "Accuray: 70.15%\n",
      "Precision: 70.00%\n"
     ]
    },
    {
     "name": "stderr",
     "output_type": "stream",
     "text": [
      "/anaconda3/lib/python3.6/site-packages/sklearn/preprocessing/label.py:151: DeprecationWarning: The truth value of an empty array is ambiguous. Returning False, but in future this will result in an error. Use `array.size > 0` to check that an array is not empty.\n",
      "  if diff:\n",
      "/anaconda3/lib/python3.6/site-packages/sklearn/preprocessing/label.py:151: DeprecationWarning: The truth value of an empty array is ambiguous. Returning False, but in future this will result in an error. Use `array.size > 0` to check that an array is not empty.\n",
      "  if diff:\n",
      "/anaconda3/lib/python3.6/site-packages/sklearn/preprocessing/label.py:151: DeprecationWarning: The truth value of an empty array is ambiguous. Returning False, but in future this will result in an error. Use `array.size > 0` to check that an array is not empty.\n",
      "  if diff:\n"
     ]
    }
   ],
   "source": [
    "print(classification_report(y_test,model.predict(X_test)))\n",
    "print(\"Accuray: %.2f\" %(accuracy_score(y_test,model.predict(X_test))*100) + \"%\")\n",
    "print(\"Precision: %.2f\" %(precision_score(y_test,model.predict(X_test))*100) + \"%\")"
   ]
  },
  {
   "cell_type": "markdown",
   "metadata": {},
   "source": [
    "El accuracy del modelo no es muy elevado (70,15%).\n",
    "\n",
    "El target RESERVA vale 1 un 57% de las veces. Eso quiere decir que, si mi estrategia fuese apostar siempre a que el precio del intradiario baja, acertaría un 57% de las veces. \n",
    "\n",
    "Con el modelo seleccionado, acierto un 13% más."
   ]
  },
  {
   "cell_type": "code",
   "execution_count": 9,
   "metadata": {},
   "outputs": [
    {
     "data": {
      "image/png": "[encoded data removed]",
      "text/plain": [
       "<Figure size 360x360 with 1 Axes>"
      ]
     },
     "metadata": {},
     "output_type": "display_data"
    },
    {
     "name": "stdout",
     "output_type": "stream",
     "text": [
      "RESERVA = 1: 57.22%\n"
     ]
    }
   ],
   "source": [
    "g=sns.catplot('RESERVA',data=df_new,kind='count',palette='pastel')\n",
    "plt.show()\n",
    "print(\"RESERVA = 1: %.2f\" %(df_new['RESERVA'].value_counts(normalize=True)[1]*100) + \"%\")"
   ]
  },
  {
   "cell_type": "markdown",
   "metadata": {},
   "source": [
    "Incluyo la probabilidad con la que ha selecionado esa salida, para intentar ver si mi porcentaje de acierto aumenta cuando solo hago caso al modelo cuando me predice con cierta probabilidad, sin perder muchas oportunidades."
   ]
  },
  {
   "cell_type": "markdown",
   "metadata": {},
   "source": [
    "### Análisis probabilidades: predict_proba()"
   ]
  },
  {
   "cell_type": "code",
   "execution_count": 10,
   "metadata": {},
   "outputs": [
    {
     "name": "stderr",
     "output_type": "stream",
     "text": [
      "/anaconda3/lib/python3.6/site-packages/sklearn/preprocessing/label.py:151: DeprecationWarning: The truth value of an empty array is ambiguous. Returning False, but in future this will result in an error. Use `array.size > 0` to check that an array is not empty.\n",
      "  if diff:\n"
     ]
    }
   ],
   "source": [
    "prob=list(model.predict_proba(X_test))\n",
    "pred=list(model.predict(X_test))"
   ]
  },
  {
   "cell_type": "code",
   "execution_count": 11,
   "metadata": {},
   "outputs": [
    {
     "data": {
      "text/html": [
       "<div>\n",
       "<style scoped>\n",
       "    .dataframe tbody tr th:only-of-type {\n",
       "        vertical-align: middle;\n",
       "    }\n",
       "\n",
       "    .dataframe tbody tr th {\n",
       "        vertical-align: top;\n",
       "    }\n",
       "\n",
       "    .dataframe thead th {\n",
       "        text-align: right;\n",
       "    }\n",
       "</style>\n",
       "<table border=\"1\" class=\"dataframe\">\n",
       "  <thead>\n",
       "    <tr style=\"text-align: right;\">\n",
       "      <th></th>\n",
       "      <th>PROB_0</th>\n",
       "      <th>PROB_1</th>\n",
       "    </tr>\n",
       "  </thead>\n",
       "  <tbody>\n",
       "    <tr>\n",
       "      <th>0</th>\n",
       "      <td>0.588170</td>\n",
       "      <td>0.411830</td>\n",
       "    </tr>\n",
       "    <tr>\n",
       "      <th>1</th>\n",
       "      <td>0.525154</td>\n",
       "      <td>0.474846</td>\n",
       "    </tr>\n",
       "    <tr>\n",
       "      <th>2</th>\n",
       "      <td>0.504295</td>\n",
       "      <td>0.495705</td>\n",
       "    </tr>\n",
       "    <tr>\n",
       "      <th>3</th>\n",
       "      <td>0.497604</td>\n",
       "      <td>0.502396</td>\n",
       "    </tr>\n",
       "    <tr>\n",
       "      <th>4</th>\n",
       "      <td>0.360216</td>\n",
       "      <td>0.639784</td>\n",
       "    </tr>\n",
       "  </tbody>\n",
       "</table>\n",
       "</div>"
      ],
      "text/plain": [
       "     PROB_0    PROB_1\n",
       "0  0.588170  0.411830\n",
       "1  0.525154  0.474846\n",
       "2  0.504295  0.495705\n",
       "3  0.497604  0.502396\n",
       "4  0.360216  0.639784"
      ]
     },
     "execution_count": 11,
     "metadata": {},
     "output_type": "execute_result"
    }
   ],
   "source": [
    "df_pred_prob=pd.DataFrame(prob,columns=['PROB_0','PROB_1'])\n",
    "df_pred_prob.head()"
   ]
  },
  {
   "cell_type": "code",
   "execution_count": 12,
   "metadata": {},
   "outputs": [
    {
     "data": {
      "text/html": [
       "<div>\n",
       "<style scoped>\n",
       "    .dataframe tbody tr th:only-of-type {\n",
       "        vertical-align: middle;\n",
       "    }\n",
       "\n",
       "    .dataframe tbody tr th {\n",
       "        vertical-align: top;\n",
       "    }\n",
       "\n",
       "    .dataframe thead th {\n",
       "        text-align: right;\n",
       "    }\n",
       "</style>\n",
       "<table border=\"1\" class=\"dataframe\">\n",
       "  <thead>\n",
       "    <tr style=\"text-align: right;\">\n",
       "      <th></th>\n",
       "      <th>PROB_0</th>\n",
       "      <th>PROB_1</th>\n",
       "      <th>PRED</th>\n",
       "      <th>TRUE</th>\n",
       "    </tr>\n",
       "  </thead>\n",
       "  <tbody>\n",
       "    <tr>\n",
       "      <th>0</th>\n",
       "      <td>0.588170</td>\n",
       "      <td>0.411830</td>\n",
       "      <td>0</td>\n",
       "      <td>1</td>\n",
       "    </tr>\n",
       "    <tr>\n",
       "      <th>1</th>\n",
       "      <td>0.525154</td>\n",
       "      <td>0.474846</td>\n",
       "      <td>0</td>\n",
       "      <td>1</td>\n",
       "    </tr>\n",
       "    <tr>\n",
       "      <th>2</th>\n",
       "      <td>0.504295</td>\n",
       "      <td>0.495705</td>\n",
       "      <td>0</td>\n",
       "      <td>0</td>\n",
       "    </tr>\n",
       "    <tr>\n",
       "      <th>3</th>\n",
       "      <td>0.497604</td>\n",
       "      <td>0.502396</td>\n",
       "      <td>1</td>\n",
       "      <td>1</td>\n",
       "    </tr>\n",
       "    <tr>\n",
       "      <th>4</th>\n",
       "      <td>0.360216</td>\n",
       "      <td>0.639784</td>\n",
       "      <td>1</td>\n",
       "      <td>1</td>\n",
       "    </tr>\n",
       "  </tbody>\n",
       "</table>\n",
       "</div>"
      ],
      "text/plain": [
       "     PROB_0    PROB_1  PRED  TRUE\n",
       "0  0.588170  0.411830     0     1\n",
       "1  0.525154  0.474846     0     1\n",
       "2  0.504295  0.495705     0     0\n",
       "3  0.497604  0.502396     1     1\n",
       "4  0.360216  0.639784     1     1"
      ]
     },
     "execution_count": 12,
     "metadata": {},
     "output_type": "execute_result"
    }
   ],
   "source": [
    "df_pred_prob['PRED']=pred\n",
    "df_pred_prob['TRUE']=list(y_test)\n",
    "df_pred_prob.head()"
   ]
  },
  {
   "cell_type": "markdown",
   "metadata": {},
   "source": [
    "Creo dos conjuntos: \n",
    "\n",
    "* Baja intra: Cuando True=1 (RESERVA=1 real)\n",
    "* Sube intra: Cuando True=0 (RESERVA=0 real)"
   ]
  },
  {
   "cell_type": "code",
   "execution_count": 13,
   "metadata": {},
   "outputs": [],
   "source": [
    "BAJA_INTRA=df_pred_prob[df_pred_prob['TRUE']==1].copy().reset_index(drop=True)\n",
    "SUBE_INTRA=df_pred_prob[df_pred_prob['TRUE']==0].copy().reset_index(drop=True)"
   ]
  },
  {
   "cell_type": "markdown",
   "metadata": {},
   "source": [
    "#### BAJA INTRA:"
   ]
  },
  {
   "cell_type": "markdown",
   "metadata": {},
   "source": [
    "* Aciertos:"
   ]
  },
  {
   "cell_type": "code",
   "execution_count": 14,
   "metadata": {},
   "outputs": [
    {
     "data": {
      "text/plain": [
       "count    1645.000000\n",
       "mean        0.702404\n",
       "std         0.109452\n",
       "min         0.500345\n",
       "25%         0.615492\n",
       "50%         0.700513\n",
       "75%         0.787501\n",
       "max         0.980100\n",
       "Name: PROB_1, dtype: float64"
      ]
     },
     "execution_count": 14,
     "metadata": {},
     "output_type": "execute_result"
    }
   ],
   "source": [
    "BAJA_INTRA[BAJA_INTRA['PRED']==1]['PROB_1'].describe()"
   ]
  },
  {
   "cell_type": "markdown",
   "metadata": {},
   "source": [
    "La probabilidad media con la que clasifica como 1 (baja intra) y es 1 (acierta) es del 70%. Tan solo en un 25% de los casos de acierto la probabilidad era inferior al 62%."
   ]
  },
  {
   "cell_type": "markdown",
   "metadata": {},
   "source": [
    "* Fallos:"
   ]
  },
  {
   "cell_type": "code",
   "execution_count": 15,
   "metadata": {},
   "outputs": [
    {
     "data": {
      "text/plain": [
       "count    341.000000\n",
       "mean       0.607196\n",
       "std        0.083213\n",
       "min        0.500007\n",
       "25%        0.538656\n",
       "50%        0.590101\n",
       "75%        0.649176\n",
       "max        0.966778\n",
       "Name: PROB_0, dtype: float64"
      ]
     },
     "execution_count": 15,
     "metadata": {},
     "output_type": "execute_result"
    }
   ],
   "source": [
    "BAJA_INTRA[BAJA_INTRA['PRED']==0]['PROB_0'].describe()"
   ]
  },
  {
   "cell_type": "markdown",
   "metadata": {},
   "source": [
    "La probabilidad media con la que clasifica como 0 (sube intra) y es 1 es del 60%. Un 75% de los fallos los predijo con una probabilidad inferior al 65%. "
   ]
  },
  {
   "cell_type": "markdown",
   "metadata": {},
   "source": [
    "#### SUBE INTRA:"
   ]
  },
  {
   "cell_type": "markdown",
   "metadata": {},
   "source": [
    "* Aciertos:"
   ]
  },
  {
   "cell_type": "code",
   "execution_count": 16,
   "metadata": {},
   "outputs": [
    {
     "data": {
      "text/plain": [
       "count    813.000000\n",
       "mean       0.669829\n",
       "std        0.116388\n",
       "min        0.500384\n",
       "25%        0.571453\n",
       "50%        0.650337\n",
       "75%        0.761883\n",
       "max        0.958478\n",
       "Name: PROB_0, dtype: float64"
      ]
     },
     "execution_count": 16,
     "metadata": {},
     "output_type": "execute_result"
    }
   ],
   "source": [
    "SUBE_INTRA[SUBE_INTRA['PRED']==0]['PROB_0'].describe()"
   ]
  },
  {
   "cell_type": "markdown",
   "metadata": {},
   "source": [
    "La probabilidad media con la que clasifica como 0 (sube intra) y es 0 es del 67%. Tan solo en un 25% de los casos de acierto la probabilidad era inferior al 57%."
   ]
  },
  {
   "cell_type": "code",
   "execution_count": 17,
   "metadata": {},
   "outputs": [
    {
     "data": {
      "text/plain": [
       "count    705.000000\n",
       "mean       0.634077\n",
       "std        0.091261\n",
       "min        0.500081\n",
       "25%        0.556696\n",
       "50%        0.623030\n",
       "75%        0.697530\n",
       "max        0.899994\n",
       "Name: PROB_1, dtype: float64"
      ]
     },
     "execution_count": 17,
     "metadata": {},
     "output_type": "execute_result"
    }
   ],
   "source": [
    "SUBE_INTRA[SUBE_INTRA['PRED']==1]['PROB_1'].describe()"
   ]
  },
  {
   "cell_type": "markdown",
   "metadata": {},
   "source": [
    "La probabilidad media con la que clasifica como 1 (baja intra) y es 0 (sube intra, falla) es del 63%. Un 75% de los fallos los predijo con una probabilidad inferior al 70%. "
   ]
  },
  {
   "cell_type": "markdown",
   "metadata": {},
   "source": [
    "**CONCLUSIÓN 1:**\n",
    "\n",
    "* Cuando la predicción es **RESERVA=1**, exigiré que la **probabilidad** con la que lo predice sea **>=70%**, si no no hago nada (todo al MD).\n",
    "\n",
    "* Cuando la predicción es **RESERVA=0**, exigiré que la **probabilidad** con la que lo predice sea **>=65%**, si no no hago nada (todo al MD).\n",
    "\n",
    "*Nota: el motivo por el que me voy al percentil 75 en el caso de apostar a subir el intra es por las características del mercado eléctrico: la estrategia de comprar de más en el mercado diario siempre se realiza con más cautela.*\n",
    "\n",
    "Graficamente se ve como a partir de una probabilidad > 70%, el número de veces que clasifica RESERVA = 1 y acierta supera a las que falla: "
   ]
  },
  {
   "cell_type": "code",
   "execution_count": 18,
   "metadata": {},
   "outputs": [
    {
     "data": {
      "image/png": "[encoded data removed]",
      "text/plain": [
       "<Figure size 720x720 with 1 Axes>"
      ]
     },
     "metadata": {},
     "output_type": "display_data"
    }
   ],
   "source": [
    "f, ax = plt.subplots(1, 1,figsize=[10,10])\n",
    "\n",
    "sns.distplot(BAJA_INTRA[BAJA_INTRA['PRED']==1]['PROB_1'],ax=ax,color='green');\n",
    "sns.distplot(SUBE_INTRA[SUBE_INTRA['PRED']==1]['PROB_1'],ax=ax,color='red');\n",
    "\n",
    "ax.legend(labels=[\"ACIERTA\",\"FALLA\"]) \n",
    "\n",
    "plt.show()"
   ]
  },
  {
   "cell_type": "markdown",
   "metadata": {},
   "source": [
    "En el caso de RESERVA = 0 la distribución de fallos se desplaza más a la izquierda, considerando los resultados más fiables a menor probabilidad predicha. Me quedo con el percentil 75 (probabilidad mínima exigida del 65%)"
   ]
  },
  {
   "cell_type": "code",
   "execution_count": 19,
   "metadata": {},
   "outputs": [
    {
     "data": {
      "image/png": "[encoded data removed]",
      "text/plain": [
       "<Figure size 720x720 with 1 Axes>"
      ]
     },
     "metadata": {},
     "output_type": "display_data"
    }
   ],
   "source": [
    "f, ax = plt.subplots(1, 1,figsize=[10,10])\n",
    "\n",
    "sns.distplot(SUBE_INTRA[SUBE_INTRA['PRED']==0]['PROB_0'],ax=ax,color='green');\n",
    "sns.distplot(BAJA_INTRA[BAJA_INTRA['PRED']==0]['PROB_0'],ax=ax,color='red');\n",
    "\n",
    "ax.legend(labels=[\"ACIERTA\",\"FALLA\"]) \n",
    "\n",
    "plt.show()"
   ]
  },
  {
   "cell_type": "markdown",
   "metadata": {},
   "source": [
    "Falta comprobar cuántas oportunidades pierdo en los huecos de aciertos entre la probabilidad del 50% y la mínima exigida:"
   ]
  },
  {
   "cell_type": "code",
   "execution_count": 20,
   "metadata": {},
   "outputs": [
    {
     "name": "stdout",
     "output_type": "stream",
     "text": [
      "41.19%\n"
     ]
    }
   ],
   "source": [
    "print(\"%.2f\" %(BAJA_INTRA[(BAJA_INTRA['PRED']==1) & (BAJA_INTRA['PROB_1']<0.7)]['PRED'].count()/len(BAJA_INTRA['PRED'])*100) + \"%\")"
   ]
  },
  {
   "cell_type": "markdown",
   "metadata": {},
   "source": [
    "Hay un 41% de las veces que me quedo de brazos cruzados y hubiese acertado ¿cuántas veces ocurre esto cuando predict_proba < 65%?"
   ]
  },
  {
   "cell_type": "code",
   "execution_count": 21,
   "metadata": {},
   "outputs": [
    {
     "name": "stdout",
     "output_type": "stream",
     "text": [
      "17.12%\n"
     ]
    }
   ],
   "source": [
    "print(\"%.2f\" %(BAJA_INTRA[(BAJA_INTRA['PRED']==1) & (BAJA_INTRA['PROB_1']<0.6)]['PRED'].count()/len(BAJA_INTRA['PRED'])*100) + \"%\")"
   ]
  },
  {
   "cell_type": "markdown",
   "metadata": {},
   "source": [
    "Si bajo mi exigencia al 65%, tan solo pierdo un 17% de oportunidades. "
   ]
  },
  {
   "cell_type": "code",
   "execution_count": 22,
   "metadata": {},
   "outputs": [
    {
     "name": "stdout",
     "output_type": "stream",
     "text": [
      "26.68%\n"
     ]
    }
   ],
   "source": [
    "print(\"%.2f\" %(SUBE_INTRA[(SUBE_INTRA['PRED']==0) & (SUBE_INTRA['PROB_0']<0.65)]['PRED'].count()/len(SUBE_INTRA['PRED'])*100) + \"%\")"
   ]
  },
  {
   "cell_type": "markdown",
   "metadata": {},
   "source": [
    "Hay un 26% de las veces que me quedo de brazos cruzados y hubiese acertado."
   ]
  },
  {
   "cell_type": "markdown",
   "metadata": {},
   "source": [
    "**CONCLUSIÓN 2:**\n",
    "\n",
    "* Cuando la predicción es **RESERVA=1**\n",
    "\n",
    "        * Dejaré de comprar una cantidad mínima residual apostando a que baja el intradiario, si la probabilidad está comprendida entre el **60% - 70%** (aumentando volumen a valores normales según se aproxime al 70%)\n",
    "        * Estrategia de dejar de comprar \"normal\" cuando la **probabilidad** con la que lo predice sea **>=70%**\n",
    "        * En otro caso, no hago nada (todo al MD).\n",
    "\n",
    "* Cuando la predicción es **RESERVA=0**, exigiré que la **probabilidad** con la que lo predice sea **>=65%**, si no no hago nada (todo al MD).\n",
    "\n"
   ]
  },
  {
   "cell_type": "markdown",
   "metadata": {},
   "source": [
    "### ¿Cómo mejora mi acierto teniendo en cuenta predict_proba?"
   ]
  },
  {
   "cell_type": "code",
   "execution_count": 23,
   "metadata": {
    "scrolled": true
   },
   "outputs": [],
   "source": [
    "A=BAJA_INTRA[(BAJA_INTRA['PROB_1']>0.6)]['PRED'].count()+SUBE_INTRA[(SUBE_INTRA['PROB_0']>0.65)]['PRED'].count()"
   ]
  },
  {
   "cell_type": "code",
   "execution_count": 24,
   "metadata": {},
   "outputs": [],
   "source": [
    "B=(df_pred_prob[df_pred_prob['PROB_1']>0.6]['PRED'].count()+df_pred_prob[df_pred_prob['PROB_0']>0.65]['PRED'].count())"
   ]
  },
  {
   "cell_type": "code",
   "execution_count": 25,
   "metadata": {},
   "outputs": [
    {
     "name": "stdout",
     "output_type": "stream",
     "text": [
      "Nuevo porcentaje acierto: 77.51%\n"
     ]
    }
   ],
   "source": [
    "print(\"Nuevo porcentaje acierto: %.2f\" %(A/B*100) + \"%\")"
   ]
  },
  {
   "cell_type": "markdown",
   "metadata": {},
   "source": [
    "### Resumen:\n",
    "\n",
    "A la hora de aplicar el modelo clasificador de si baja o sube el precio del intradiario, obtendré tanto la predicción como la probabilidad con la que predice, y actuaré siguiendo el siguiente patrón:\n",
    "\n",
    "* Cuando la predicción es **RESERVA=1**\n",
    "\n",
    "        * Dejaré de comprar una cantidad mínima residual apostando a que baja el intradiario, si la probabilidad está comprendida entre el **60% - 70%** (aumentando volumen a valores normales según se aproxime al 70%)\n",
    "        * Estrategia de dejar de comprar \"normal\" cuando la **probabilidad** con la que lo predice sea **>=70%**\n",
    "        * En otro caso, no hago nada (todo al MD).\n",
    "\n",
    "* Cuando la predicción es **RESERVA=0**, exigiré que la **probabilidad** con la que lo predice sea **>=65%**, si no no hago nada (todo al MD).\n"
   ]
  },
  {
   "cell_type": "markdown",
   "metadata": {},
   "source": [
    "Guardo el dataset df_pred_prob en *Resultados/data&model/"
   ]
  },
  {
   "cell_type": "code",
   "execution_count": 26,
   "metadata": {},
   "outputs": [],
   "source": [
    "df_pred_prob.to_csv('./data&model/pred_prob.csv',sep=';',index= False)"
   ]
  }
 ],
 "metadata": {
  "kernelspec": {
   "display_name": "Python 3",
   "language": "python",
   "name": "python3"
  },
  "language_info": {
   "codemirror_mode": {
    "name": "ipython",
    "version": 3
   },
   "file_extension": ".py",
   "mimetype": "text/x-python",
   "name": "python",
   "nbconvert_exporter": "python",
   "pygments_lexer": "ipython3",
   "version": "3.6.8"
  }
 },
 "nbformat": 4,
 "nbformat_minor": 2
}
